{
 "cells": [
  {
   "cell_type": "markdown",
   "metadata": {},
   "source": [
    "Linear Regression (Kristin)\n",
    "1.  run with default parameters\n",
    "2.  SGD Regressor with different parameters\n",
    "    a. l1\n",
    "    b. l2\n",
    "    c. alpha\n",
    "    d. iterations\n",
    "3.  need to scale data for SGD Regressor\n",
    "4.  Used feature selection techniques to determine other features to remove to improve model performance\n",
    "\n"
   ]
  },
  {
   "cell_type": "code",
   "execution_count": 1,
   "metadata": {},
   "outputs": [
    {
     "data": {
      "text/html": [
       "<div>\n",
       "<style scoped>\n",
       "    .dataframe tbody tr th:only-of-type {\n",
       "        vertical-align: middle;\n",
       "    }\n",
       "\n",
       "    .dataframe tbody tr th {\n",
       "        vertical-align: top;\n",
       "    }\n",
       "\n",
       "    .dataframe thead th {\n",
       "        text-align: right;\n",
       "    }\n",
       "</style>\n",
       "<table border=\"1\" class=\"dataframe\">\n",
       "  <thead>\n",
       "    <tr style=\"text-align: right;\">\n",
       "      <th></th>\n",
       "      <th>Rank</th>\n",
       "      <th>Name</th>\n",
       "      <th>Platform</th>\n",
       "      <th>Year</th>\n",
       "      <th>Genre</th>\n",
       "      <th>Publisher</th>\n",
       "      <th>NA_Sales</th>\n",
       "      <th>EU_Sales</th>\n",
       "      <th>JP_Sales</th>\n",
       "      <th>Other_Sales</th>\n",
       "      <th>...</th>\n",
       "      <th>Microsoft</th>\n",
       "      <th>Nintendo</th>\n",
       "      <th>Other</th>\n",
       "      <th>PC</th>\n",
       "      <th>SEGA</th>\n",
       "      <th>Sony</th>\n",
       "      <th>Console</th>\n",
       "      <th>HH</th>\n",
       "      <th>Other</th>\n",
       "      <th>PC</th>\n",
       "    </tr>\n",
       "  </thead>\n",
       "  <tbody>\n",
       "    <tr>\n",
       "      <td>0</td>\n",
       "      <td>1</td>\n",
       "      <td>Wii Sports</td>\n",
       "      <td>Wii</td>\n",
       "      <td>2006</td>\n",
       "      <td>Sports</td>\n",
       "      <td>Nintendo</td>\n",
       "      <td>41.49</td>\n",
       "      <td>29.02</td>\n",
       "      <td>3.77</td>\n",
       "      <td>8.46</td>\n",
       "      <td>...</td>\n",
       "      <td>0</td>\n",
       "      <td>1</td>\n",
       "      <td>0</td>\n",
       "      <td>0</td>\n",
       "      <td>0</td>\n",
       "      <td>0</td>\n",
       "      <td>1</td>\n",
       "      <td>0</td>\n",
       "      <td>0</td>\n",
       "      <td>0</td>\n",
       "    </tr>\n",
       "    <tr>\n",
       "      <td>1</td>\n",
       "      <td>2</td>\n",
       "      <td>Super Mario Bros.</td>\n",
       "      <td>NES</td>\n",
       "      <td>1985</td>\n",
       "      <td>Platform</td>\n",
       "      <td>Nintendo</td>\n",
       "      <td>29.08</td>\n",
       "      <td>3.58</td>\n",
       "      <td>6.81</td>\n",
       "      <td>0.77</td>\n",
       "      <td>...</td>\n",
       "      <td>0</td>\n",
       "      <td>1</td>\n",
       "      <td>0</td>\n",
       "      <td>0</td>\n",
       "      <td>0</td>\n",
       "      <td>0</td>\n",
       "      <td>1</td>\n",
       "      <td>0</td>\n",
       "      <td>0</td>\n",
       "      <td>0</td>\n",
       "    </tr>\n",
       "    <tr>\n",
       "      <td>2</td>\n",
       "      <td>3</td>\n",
       "      <td>Mario Kart Wii</td>\n",
       "      <td>Wii</td>\n",
       "      <td>2008</td>\n",
       "      <td>Racing</td>\n",
       "      <td>Nintendo</td>\n",
       "      <td>15.85</td>\n",
       "      <td>12.88</td>\n",
       "      <td>3.79</td>\n",
       "      <td>3.31</td>\n",
       "      <td>...</td>\n",
       "      <td>0</td>\n",
       "      <td>1</td>\n",
       "      <td>0</td>\n",
       "      <td>0</td>\n",
       "      <td>0</td>\n",
       "      <td>0</td>\n",
       "      <td>1</td>\n",
       "      <td>0</td>\n",
       "      <td>0</td>\n",
       "      <td>0</td>\n",
       "    </tr>\n",
       "    <tr>\n",
       "      <td>3</td>\n",
       "      <td>4</td>\n",
       "      <td>Wii Sports Resort</td>\n",
       "      <td>Wii</td>\n",
       "      <td>2009</td>\n",
       "      <td>Sports</td>\n",
       "      <td>Nintendo</td>\n",
       "      <td>15.75</td>\n",
       "      <td>11.01</td>\n",
       "      <td>3.28</td>\n",
       "      <td>2.96</td>\n",
       "      <td>...</td>\n",
       "      <td>0</td>\n",
       "      <td>1</td>\n",
       "      <td>0</td>\n",
       "      <td>0</td>\n",
       "      <td>0</td>\n",
       "      <td>0</td>\n",
       "      <td>1</td>\n",
       "      <td>0</td>\n",
       "      <td>0</td>\n",
       "      <td>0</td>\n",
       "    </tr>\n",
       "    <tr>\n",
       "      <td>4</td>\n",
       "      <td>5</td>\n",
       "      <td>Pokemon Red/Pokemon Blue</td>\n",
       "      <td>GB</td>\n",
       "      <td>1996</td>\n",
       "      <td>Role-Playing</td>\n",
       "      <td>Nintendo</td>\n",
       "      <td>11.27</td>\n",
       "      <td>8.89</td>\n",
       "      <td>10.22</td>\n",
       "      <td>1.00</td>\n",
       "      <td>...</td>\n",
       "      <td>0</td>\n",
       "      <td>1</td>\n",
       "      <td>0</td>\n",
       "      <td>0</td>\n",
       "      <td>0</td>\n",
       "      <td>0</td>\n",
       "      <td>0</td>\n",
       "      <td>1</td>\n",
       "      <td>0</td>\n",
       "      <td>0</td>\n",
       "    </tr>\n",
       "    <tr>\n",
       "      <td>...</td>\n",
       "      <td>...</td>\n",
       "      <td>...</td>\n",
       "      <td>...</td>\n",
       "      <td>...</td>\n",
       "      <td>...</td>\n",
       "      <td>...</td>\n",
       "      <td>...</td>\n",
       "      <td>...</td>\n",
       "      <td>...</td>\n",
       "      <td>...</td>\n",
       "      <td>...</td>\n",
       "      <td>...</td>\n",
       "      <td>...</td>\n",
       "      <td>...</td>\n",
       "      <td>...</td>\n",
       "      <td>...</td>\n",
       "      <td>...</td>\n",
       "      <td>...</td>\n",
       "      <td>...</td>\n",
       "      <td>...</td>\n",
       "      <td>...</td>\n",
       "    </tr>\n",
       "    <tr>\n",
       "      <td>15974</td>\n",
       "      <td>15977</td>\n",
       "      <td>Woody Woodpecker in Crazy Castle 5</td>\n",
       "      <td>GBA</td>\n",
       "      <td>2002</td>\n",
       "      <td>Platform</td>\n",
       "      <td>Kemco</td>\n",
       "      <td>0.01</td>\n",
       "      <td>0.00</td>\n",
       "      <td>0.00</td>\n",
       "      <td>0.00</td>\n",
       "      <td>...</td>\n",
       "      <td>0</td>\n",
       "      <td>1</td>\n",
       "      <td>0</td>\n",
       "      <td>0</td>\n",
       "      <td>0</td>\n",
       "      <td>0</td>\n",
       "      <td>0</td>\n",
       "      <td>1</td>\n",
       "      <td>0</td>\n",
       "      <td>0</td>\n",
       "    </tr>\n",
       "    <tr>\n",
       "      <td>15975</td>\n",
       "      <td>15978</td>\n",
       "      <td>Men in Black II: Alien Escape</td>\n",
       "      <td>GC</td>\n",
       "      <td>2003</td>\n",
       "      <td>Shooter</td>\n",
       "      <td>Infogrames</td>\n",
       "      <td>0.01</td>\n",
       "      <td>0.00</td>\n",
       "      <td>0.00</td>\n",
       "      <td>0.00</td>\n",
       "      <td>...</td>\n",
       "      <td>0</td>\n",
       "      <td>1</td>\n",
       "      <td>0</td>\n",
       "      <td>0</td>\n",
       "      <td>0</td>\n",
       "      <td>0</td>\n",
       "      <td>1</td>\n",
       "      <td>0</td>\n",
       "      <td>0</td>\n",
       "      <td>0</td>\n",
       "    </tr>\n",
       "    <tr>\n",
       "      <td>15976</td>\n",
       "      <td>15979</td>\n",
       "      <td>SCORE International Baja 1000: The Official Game</td>\n",
       "      <td>PS2</td>\n",
       "      <td>2008</td>\n",
       "      <td>Racing</td>\n",
       "      <td>Activision</td>\n",
       "      <td>0.00</td>\n",
       "      <td>0.00</td>\n",
       "      <td>0.00</td>\n",
       "      <td>0.00</td>\n",
       "      <td>...</td>\n",
       "      <td>0</td>\n",
       "      <td>0</td>\n",
       "      <td>0</td>\n",
       "      <td>0</td>\n",
       "      <td>0</td>\n",
       "      <td>1</td>\n",
       "      <td>1</td>\n",
       "      <td>0</td>\n",
       "      <td>0</td>\n",
       "      <td>0</td>\n",
       "    </tr>\n",
       "    <tr>\n",
       "      <td>15977</td>\n",
       "      <td>15980</td>\n",
       "      <td>Know How 2</td>\n",
       "      <td>DS</td>\n",
       "      <td>2010</td>\n",
       "      <td>Puzzle</td>\n",
       "      <td>7G//AMES</td>\n",
       "      <td>0.00</td>\n",
       "      <td>0.01</td>\n",
       "      <td>0.00</td>\n",
       "      <td>0.00</td>\n",
       "      <td>...</td>\n",
       "      <td>0</td>\n",
       "      <td>1</td>\n",
       "      <td>0</td>\n",
       "      <td>0</td>\n",
       "      <td>0</td>\n",
       "      <td>0</td>\n",
       "      <td>0</td>\n",
       "      <td>1</td>\n",
       "      <td>0</td>\n",
       "      <td>0</td>\n",
       "    </tr>\n",
       "    <tr>\n",
       "      <td>15978</td>\n",
       "      <td>15981</td>\n",
       "      <td>Spirits &amp; Spells</td>\n",
       "      <td>GBA</td>\n",
       "      <td>2003</td>\n",
       "      <td>Platform</td>\n",
       "      <td>Wanadoo</td>\n",
       "      <td>0.01</td>\n",
       "      <td>0.00</td>\n",
       "      <td>0.00</td>\n",
       "      <td>0.00</td>\n",
       "      <td>...</td>\n",
       "      <td>0</td>\n",
       "      <td>1</td>\n",
       "      <td>0</td>\n",
       "      <td>0</td>\n",
       "      <td>0</td>\n",
       "      <td>0</td>\n",
       "      <td>0</td>\n",
       "      <td>1</td>\n",
       "      <td>0</td>\n",
       "      <td>0</td>\n",
       "    </tr>\n",
       "  </tbody>\n",
       "</table>\n",
       "<p>15979 rows × 39 columns</p>\n",
       "</div>"
      ],
      "text/plain": [
       "        Rank                                              Name Platform  Year  \\\n",
       "0          1                                        Wii Sports      Wii  2006   \n",
       "1          2                                 Super Mario Bros.      NES  1985   \n",
       "2          3                                    Mario Kart Wii      Wii  2008   \n",
       "3          4                                 Wii Sports Resort      Wii  2009   \n",
       "4          5                          Pokemon Red/Pokemon Blue       GB  1996   \n",
       "...      ...                                               ...      ...   ...   \n",
       "15974  15977                Woody Woodpecker in Crazy Castle 5      GBA  2002   \n",
       "15975  15978                     Men in Black II: Alien Escape       GC  2003   \n",
       "15976  15979  SCORE International Baja 1000: The Official Game      PS2  2008   \n",
       "15977  15980                                        Know How 2       DS  2010   \n",
       "15978  15981                                  Spirits & Spells      GBA  2003   \n",
       "\n",
       "              Genre   Publisher  NA_Sales  EU_Sales  JP_Sales  Other_Sales  \\\n",
       "0            Sports    Nintendo     41.49     29.02      3.77         8.46   \n",
       "1          Platform    Nintendo     29.08      3.58      6.81         0.77   \n",
       "2            Racing    Nintendo     15.85     12.88      3.79         3.31   \n",
       "3            Sports    Nintendo     15.75     11.01      3.28         2.96   \n",
       "4      Role-Playing    Nintendo     11.27      8.89     10.22         1.00   \n",
       "...             ...         ...       ...       ...       ...          ...   \n",
       "15974      Platform       Kemco      0.01      0.00      0.00         0.00   \n",
       "15975       Shooter  Infogrames      0.01      0.00      0.00         0.00   \n",
       "15976        Racing  Activision      0.00      0.00      0.00         0.00   \n",
       "15977        Puzzle    7G//AMES      0.00      0.01      0.00         0.00   \n",
       "15978      Platform     Wanadoo      0.01      0.00      0.00         0.00   \n",
       "\n",
       "       ...  Microsoft  Nintendo  Other  PC SEGA Sony  Console  HH  Other  PC  \n",
       "0      ...          0         1      0   0    0    0        1   0      0   0  \n",
       "1      ...          0         1      0   0    0    0        1   0      0   0  \n",
       "2      ...          0         1      0   0    0    0        1   0      0   0  \n",
       "3      ...          0         1      0   0    0    0        1   0      0   0  \n",
       "4      ...          0         1      0   0    0    0        0   1      0   0  \n",
       "...    ...        ...       ...    ...  ..  ...  ...      ...  ..    ...  ..  \n",
       "15974  ...          0         1      0   0    0    0        0   1      0   0  \n",
       "15975  ...          0         1      0   0    0    0        1   0      0   0  \n",
       "15976  ...          0         0      0   0    0    1        1   0      0   0  \n",
       "15977  ...          0         1      0   0    0    0        0   1      0   0  \n",
       "15978  ...          0         1      0   0    0    0        0   1      0   0  \n",
       "\n",
       "[15979 rows x 39 columns]"
      ]
     },
     "execution_count": 1,
     "metadata": {},
     "output_type": "execute_result"
    }
   ],
   "source": [
    "import pandas as pd\n",
    "import numpy as np\n",
    "import matplotlib.pyplot as plt\n",
    "import seaborn as sns\n",
    "%matplotlib inline\n",
    "\n",
    "\n",
    "\n",
    "vgsales = pd.read_excel('vgsales_v5.xlsx')\n",
    "\n",
    "vgsales.head()\n",
    "\n",
    "# Create dummy variables for | Genre | First_Party | Platform_Type\n",
    "\n",
    "#dummy variables for Genre\n",
    "dummy_genre = pd.get_dummies(vgsales.Genre)\n",
    "dummy_genre\n",
    "\n",
    "#dummy variables for First Party\n",
    "dummy_first_party = pd.get_dummies(vgsales.First_Party)\n",
    "dummy_first_party\n",
    "\n",
    "#dummy variables for Platform Type\n",
    "dummy_platform_type = pd.get_dummies(vgsales.Platform_Type)\n",
    "dummy_platform_type\n",
    "\n",
    "#Merge dummy frames into one dataset with original vgsales datframe\n",
    "merged_vgsales = pd.concat([vgsales, dummy_genre, dummy_first_party, dummy_platform_type], axis='columns')\n",
    "\n",
    "merged_vgsales\n",
    "\n",
    "\n",
    "\n"
   ]
  },
  {
   "cell_type": "code",
   "execution_count": 2,
   "metadata": {},
   "outputs": [],
   "source": [
    "vgsales_df = pd.DataFrame(merged_vgsales)\n"
   ]
  },
  {
   "cell_type": "code",
   "execution_count": 3,
   "metadata": {},
   "outputs": [
    {
     "name": "stdout",
     "output_type": "stream",
     "text": [
      "       NA_Sales  EU_Sales  JP_Sales  Other_Sales  Global_Sales  \\\n",
      "0         41.49     29.02      3.77         8.46         82.74   \n",
      "1         29.08      3.58      6.81         0.77         40.24   \n",
      "2         15.85     12.88      3.79         3.31         35.82   \n",
      "3         15.75     11.01      3.28         2.96         33.00   \n",
      "4         11.27      8.89     10.22         1.00         31.37   \n",
      "...         ...       ...       ...          ...           ...   \n",
      "15974      0.01      0.00      0.00         0.00          0.01   \n",
      "15975      0.01      0.00      0.00         0.00          0.01   \n",
      "15976      0.00      0.00      0.00         0.00          0.01   \n",
      "15977      0.00      0.01      0.00         0.00          0.01   \n",
      "15978      0.01      0.00      0.00         0.00          0.01   \n",
      "\n",
      "       Years_In_Market  Avg_Annual_Sales  Action  Adventure  Fighting  ...  \\\n",
      "0                   10          8.274000       0          0         0  ...   \n",
      "1                   31          1.298065       0          0         0  ...   \n",
      "2                    8          4.477500       0          0         0  ...   \n",
      "3                    7          4.714286       0          0         0  ...   \n",
      "4                   20          1.568500       0          0         0  ...   \n",
      "...                ...               ...     ...        ...       ...  ...   \n",
      "15974               14          0.000714       0          0         0  ...   \n",
      "15975               13          0.000769       0          0         0  ...   \n",
      "15976                8          0.001250       0          0         0  ...   \n",
      "15977                6          0.001667       0          0         0  ...   \n",
      "15978               13          0.000769       0          0         0  ...   \n",
      "\n",
      "       Simulation  Sports  Strategy  Microsoft  Nintendo  PC  Sony  Console  \\\n",
      "0               0       1         0          0         1   0     0        1   \n",
      "1               0       0         0          0         1   0     0        1   \n",
      "2               0       0         0          0         1   0     0        1   \n",
      "3               0       1         0          0         1   0     0        1   \n",
      "4               0       0         0          0         1   0     0        0   \n",
      "...           ...     ...       ...        ...       ...  ..   ...      ...   \n",
      "15974           0       0         0          0         1   0     0        0   \n",
      "15975           0       0         0          0         1   0     0        1   \n",
      "15976           0       0         0          0         0   0     1        1   \n",
      "15977           0       0         0          0         1   0     0        0   \n",
      "15978           0       0         0          0         1   0     0        0   \n",
      "\n",
      "       HH  PC  \n",
      "0       0   0  \n",
      "1       0   0  \n",
      "2       0   0  \n",
      "3       0   0  \n",
      "4       1   0  \n",
      "...    ..  ..  \n",
      "15974   1   0  \n",
      "15975   0   0  \n",
      "15976   0   0  \n",
      "15977   1   0  \n",
      "15978   1   0  \n",
      "\n",
      "[15979 rows x 25 columns]\n"
     ]
    }
   ],
   "source": [
    "#drop Rank (it is perfectly correlated with sales because it is based on global sales & is a result of sales\n",
    "# drop Name (a significant number of dummy variables would have to be created and we are not analyzing the impact of name, but trying to understand impact of genre, platform and region on sales)\n",
    "#drop Platform (we have created Platform Type and First Parties categories that are more meaningful than Platform)\n",
    "#drop Publisher (similar reason as Name)\n",
    "\n",
    "vgsales_df2 = vgsales_df.drop(columns = [\"Rank\",\"Name\", \"Platform\", \"Publisher\",\"Genre\", \"First_Party\", \"Platform_Type\",\"Year_1_Sales\", \"Year\", \"Atari\",\"SEGA\", \"Other\"])\n",
    "print(vgsales_df2)\n",
    "\n",
    "# I have removed futher features:  \n",
    "#Year (it is historical and not something we can predict for)\n",
    "#Year_1_Sales (it is a formula we created based on global sales, so it has 1.0 correlation with the target)\n",
    "#Atari (the platform no longer exists)\n",
    "#SEGA (the platform no longer exists)\n",
    "#Other (the platforms no longer exists)\n",
    "# of features = 24"
   ]
  },
  {
   "cell_type": "code",
   "execution_count": 4,
   "metadata": {},
   "outputs": [],
   "source": [
    "#Create X, y\n",
    "\n",
    "X = vgsales_df2.drop(columns = \"Global_Sales\")\n",
    "y = vgsales_df2.Global_Sales"
   ]
  },
  {
   "cell_type": "code",
   "execution_count": 5,
   "metadata": {},
   "outputs": [
    {
     "name": "stdout",
     "output_type": "stream",
     "text": [
      "(1598, 24)\n",
      "(1598,)\n",
      "(12783, 24)\n",
      "(12783,)\n"
     ]
    }
   ],
   "source": [
    "#create test/train/validation sets, 80% = train, 10% = test, 10% = validation\n",
    "\n",
    "from sklearn.model_selection import train_test_split\n",
    "\n",
    "X_train, X_test, y_train, y_test = train_test_split(X, y, test_size = 0.2, random_state = 42)\n",
    "X_val, X_test, y_val, y_test = train_test_split(X_test, y_test, test_size = 0.5, random_state = 42)\n",
    "\n",
    "print(X_val.shape)\n",
    "print(y_val.shape)\n",
    "print(X_train.shape)\n",
    "print(y_train.shape)"
   ]
  },
  {
   "cell_type": "code",
   "execution_count": 6,
   "metadata": {},
   "outputs": [],
   "source": [
    "#import libraries for Linear Regression\n",
    "from sklearn.linear_model import LinearRegression\n",
    "from sklearn.metrics import mean_squared_error\n",
    "from sklearn.linear_model import SGDRegressor\n",
    "from scipy import stats\n",
    "from math import sqrt\n",
    "from sklearn.metrics import r2_score\n",
    "import timeit\n",
    "from sklearn.preprocessing import StandardScaler\n",
    "import statsmodels.api as sm\n",
    "from sklearn.feature_selection import RFE\n",
    "from sklearn.linear_model import RidgeCV, LassoCV, Ridge, Lasso"
   ]
  },
  {
   "cell_type": "code",
   "execution_count": 7,
   "metadata": {},
   "outputs": [
    {
     "name": "stdout",
     "output_type": "stream",
     "text": [
      "mse: 2.7220071646076635e-05\n",
      "rmse: 0.005217285850523875\n",
      "r-squared: 0.9999867893979695\n",
      "training time: 0.011742700000000106\n"
     ]
    }
   ],
   "source": [
    "#Model 1:  Linear Regression with default parameters\n",
    "\n",
    "lin_reg1 = LinearRegression()\n",
    "lin_reg1.fit(X_train, y_train)\n",
    "\n",
    "\n",
    "y_pred1 = lin_reg1.predict(X_val)\n",
    "print(\"mse:\",mean_squared_error(y_val, y_pred1))\n",
    "print(\"rmse:\", sqrt(mean_squared_error(y_val, y_pred1)))\n",
    "print(\"r-squared:\", r2_score(y_val, y_pred1))\n",
    "print(\"training time:\", timeit.timeit())\n",
    "\n",
    "#strong results with an R-squared of 100%"
   ]
  },
  {
   "cell_type": "code",
   "execution_count": 8,
   "metadata": {},
   "outputs": [
    {
     "name": "stdout",
     "output_type": "stream",
     "text": [
      "Intercept: 0.00011611011161272167\n",
      "Coefficients: [ 9.99851725e-01  9.99902541e-01  1.00002834e+00  9.99609799e-01\n",
      "  4.04026028e-06  1.44889684e-04 -1.11902516e-04 -1.52865564e-04\n",
      " -4.31243676e-04 -4.53148555e-05  3.72654960e-04  3.33970245e-05\n",
      " -2.76289398e-04  9.67691888e-05 -2.48350719e-05 -6.45591485e-05\n",
      "  5.13322817e-05 -2.57867484e-04 -1.99484130e-04  4.80016010e-04\n",
      " -7.66000933e-04  7.06685684e-04  6.39780672e-04  4.80016010e-04]\n"
     ]
    }
   ],
   "source": [
    "#To retrieve the intercept:\n",
    "print(\"Intercept:\", lin_reg1.intercept_)\n",
    "#For retrieving the slopes:\n",
    "print(\"Coefficients:\",lin_reg1.coef_)\n",
    "\n"
   ]
  },
  {
   "cell_type": "code",
   "execution_count": 9,
   "metadata": {},
   "outputs": [
    {
     "name": "stdout",
     "output_type": "stream",
     "text": [
      "                            OLS Regression Results                            \n",
      "==============================================================================\n",
      "Dep. Variable:           Global_Sales   R-squared:                       1.000\n",
      "Model:                            OLS   Adj. R-squared:                  1.000\n",
      "Method:                 Least Squares   F-statistic:                 4.176e+07\n",
      "Date:                Fri, 14 Aug 2020   Prob (F-statistic):               0.00\n",
      "Time:                        13:20:19   Log-Likelihood:                 49098.\n",
      "No. Observations:               12783   AIC:                        -9.815e+04\n",
      "Df Residuals:                   12759   BIC:                        -9.797e+04\n",
      "Df Model:                          23                                         \n",
      "Covariance Type:            nonrobust                                         \n",
      "====================================================================================\n",
      "                       coef    std err          t      P>|t|      [0.025      0.975]\n",
      "------------------------------------------------------------------------------------\n",
      "const                0.0001      0.001      0.229      0.819      -0.001       0.001\n",
      "NA_Sales             0.9999   9.15e-05   1.09e+04      0.000       1.000       1.000\n",
      "EU_Sales             0.9999      0.000   5251.222      0.000       1.000       1.000\n",
      "JP_Sales             1.0000      0.000   5650.143      0.000       1.000       1.000\n",
      "Other_Sales          0.9996      0.000   2591.879      0.000       0.999       1.000\n",
      "Years_In_Market    4.04e-06   9.85e-06      0.410      0.682   -1.53e-05    2.33e-05\n",
      "Avg_Annual_Sales     0.0001      0.000      0.621      0.535      -0.000       0.001\n",
      "Action              -0.0001      0.000     -0.493      0.622      -0.001       0.000\n",
      "Adventure           -0.0002      0.000     -0.580      0.562      -0.001       0.000\n",
      "Fighting            -0.0004      0.000     -1.510      0.131      -0.001       0.000\n",
      "Misc             -4.531e-05      0.000     -0.185      0.854      -0.001       0.000\n",
      "Puzzle               0.0004      0.000      1.172      0.241      -0.000       0.001\n",
      "Racing             3.34e-05      0.000      0.128      0.898      -0.000       0.001\n",
      "Role-Playing        -0.0003      0.000     -1.080      0.280      -0.001       0.000\n",
      "Shooter           9.677e-05      0.000      0.367      0.713      -0.000       0.001\n",
      "Simulation       -2.484e-05      0.000     -0.088      0.930      -0.001       0.001\n",
      "Sports           -6.456e-05      0.000     -0.275      0.784      -0.001       0.000\n",
      "Strategy          5.133e-05      0.000      0.168      0.867      -0.001       0.001\n",
      "Microsoft           -0.0003      0.000     -0.549      0.583      -0.001       0.001\n",
      "Nintendo            -0.0002      0.000     -0.436      0.663      -0.001       0.001\n",
      "PC                   0.0005      0.000      2.018      0.044    1.36e-05       0.001\n",
      "Sony                -0.0008      0.000     -1.688      0.091      -0.002       0.000\n",
      "Console              0.0007      0.001      1.189      0.235      -0.000       0.002\n",
      "HH                   0.0006      0.001      1.047      0.295      -0.001       0.002\n",
      "PC                   0.0005      0.000      2.018      0.044    1.36e-05       0.001\n",
      "==============================================================================\n",
      "Omnibus:                      170.146   Durbin-Watson:                   2.042\n",
      "Prob(Omnibus):                  0.000   Jarque-Bera (JB):              308.454\n",
      "Skew:                           0.044   Prob(JB):                     1.05e-67\n",
      "Kurtosis:                       3.756   Cond. No.                     7.07e+17\n",
      "==============================================================================\n",
      "\n",
      "Warnings:\n",
      "[1] Standard Errors assume that the covariance matrix of the errors is correctly specified.\n",
      "[2] The smallest eigenvalue is 3.33e-30. This might indicate that there are\n",
      "strong multicollinearity problems or that the design matrix is singular.\n"
     ]
    },
    {
     "name": "stderr",
     "output_type": "stream",
     "text": [
      "C:\\Users\\kyoun\\Anaconda3\\lib\\site-packages\\numpy\\core\\fromnumeric.py:2389: FutureWarning: Method .ptp is deprecated and will be removed in a future version. Use numpy.ptp instead.\n",
      "  return ptp(axis=axis, out=out, **kwargs)\n"
     ]
    }
   ],
   "source": [
    "#import libraries for additional regression analysis statistics\n",
    "import statsmodels.api as sm\n",
    "from statsmodels.formula.api import ols\n",
    "\n",
    "X_train_1 = sm.add_constant(X_train)\n",
    "X_val_1 = sm.add_constant(X_val)\n",
    "\n",
    "#summary of results in OLS\n",
    "model = sm.OLS(y_train, X_train_1).fit()\n",
    "predictions = model.predict(X_val_1) \n",
    " \n",
    "print_model = model.summary()\n",
    "print(print_model)\n",
    "\n",
    "#100% r-square,\n",
    "#most features should be removed from the model because their p-values are greater than .05\n",
    "#the only features this model would show to keep are:  NA Sales, EU Sales, JP Sales, Other Sales, PC & Sony"
   ]
  },
  {
   "cell_type": "code",
   "execution_count": 10,
   "metadata": {},
   "outputs": [
    {
     "name": "stdout",
     "output_type": "stream",
     "text": [
      "Predictive Model: y=0.0+0.00012*const+0.99985*NA_Sales+0.9999*EU_Sales+1.00003*JP_Sales+0.99961*Other_Sales+0.0*Years_In_Market+0.00014*Avg_Annual_Sales-0.00011*Action-0.00015*Adventure-0.00043*Fighting-5e-05*Misc+0.00037*Puzzle+3e-05*Racing-0.00028*Role-Playing+0.0001*Shooter-2e-05*Simulation-6e-05*Sports+5e-05*Strategy-0.00026*Microsoft-0.0002*Nintendo+0.00048*PC-0.00077*Sony+0.00071*Console+0.00064*HH+0.00048*PC\n"
     ]
    }
   ],
   "source": [
    "#predictive model\n",
    "equation = \"y=\"\n",
    "intercept = lin_reg1.intercept_\n",
    "equation = equation + str(round(intercept,2))\n",
    "for key, value in model.params.items():\n",
    "\n",
    "    if value >= 0:\n",
    "        equation = equation + \"+\"+ str(round(value,5))+\"*\"+key\n",
    "    elif value < 0:\n",
    "        equation = equation + str(round(value,5))+\"*\"+key\n",
    "        \n",
    "print(\"Predictive Model:\", equation)\n",
    "\n",
    "\n",
    "\n"
   ]
  },
  {
   "cell_type": "code",
   "execution_count": 11,
   "metadata": {},
   "outputs": [],
   "source": [
    "scaler = StandardScaler().fit(X_train)\n",
    "X_train_scaled = scaler.transform(X_train)\n",
    "X_val_scaled = scaler.transform(X_val)"
   ]
  },
  {
   "cell_type": "code",
   "execution_count": 12,
   "metadata": {},
   "outputs": [
    {
     "name": "stdout",
     "output_type": "stream",
     "text": [
      "mse: 2.7741628525147853e-05\n",
      "rmse: 0.005267032231261534\n",
      "r-squared: 0.9999865362729794\n",
      "training time: 0.013224400000000358\n"
     ]
    },
    {
     "data": {
      "image/png": "[encoded data removed]",
      "text/plain": [
       "<Figure size 432x288 with 1 Axes>"
      ]
     },
     "metadata": {
      "needs_background": "light"
     },
     "output_type": "display_data"
    }
   ],
   "source": [
    "#Model #2:  SGD Regressor set at defaults (max iter = 1000, penalty = \"l2\", alpha = 0.000, learning_rate = \"invscaling\")\n",
    "\n",
    "sgd_reg2_= SGDRegressor()\n",
    "sgd_reg2_.fit(X_train_scaled, y_train)\n",
    "\n",
    "\n",
    "y_pred_sgd2=sgd_reg2_.predict(X_val_scaled)\n",
    "print(\"mse:\",mean_squared_error(y_val, y_pred_sgd2))\n",
    "print(\"rmse:\", sqrt(mean_squared_error(y_val, y_pred_sgd2)))\n",
    "print(\"r-squared:\", r2_score(y_val, y_pred_sgd2))\n",
    "print(\"training time:\", timeit.timeit())\n",
    "\n",
    "plt.scatter(y_test,y_pred_sgd2)\n",
    "plt.grid()\n",
    "plt.xlabel('Actual y')\n",
    "plt.ylabel('Predicted y')\n",
    "plt.title('Scatter plot from actual y and predicted y')\n",
    "plt.show()\n",
    "\n",
    "#the r-square is negative, which is not possible. the mse & rmse are off the charts as well.  \n",
    "#likely because data is not scaled.  data must be scaled to use an sgd.\n",
    "#after scaling, the results look much better\n",
    "#good Rsquared and good mse/rmse, but not as good as Model #1 "
   ]
  },
  {
   "cell_type": "code",
   "execution_count": 13,
   "metadata": {},
   "outputs": [
    {
     "name": "stdout",
     "output_type": "stream",
     "text": [
      "mse: 0.000516775933220505\n",
      "rmse: 0.022732706244978952\n",
      "r-squared: 0.9997491953261\n",
      "training time: 0.0074896999999998215\n"
     ]
    },
    {
     "data": {
      "image/png": "[encoded data removed]",
      "text/plain": [
       "<Figure size 432x288 with 1 Axes>"
      ]
     },
     "metadata": {
      "needs_background": "light"
     },
     "output_type": "display_data"
    }
   ],
   "source": [
    "#Model #3:  SGD Regressor  (Changed penalty to l1)\n",
    "\n",
    "sgd_reg3_= SGDRegressor(max_iter = 1000, penalty = \"l1\", alpha = 0.0, learning_rate = \"invscaling\")\n",
    "sgd_reg3_.fit(X_train_scaled, y_train)\n",
    "\n",
    "\n",
    "y_pred_sgd3=sgd_reg3_.predict(X_val_scaled)\n",
    "print(\"mse:\",mean_squared_error(y_val, y_pred_sgd3))\n",
    "print(\"rmse:\", sqrt(mean_squared_error(y_val, y_pred_sgd3)))\n",
    "print(\"r-squared:\", r2_score(y_val, y_pred_sgd3))\n",
    "print(\"training time:\", timeit.timeit())\n",
    "\n",
    "plt.scatter(y_test,y_pred_sgd3)\n",
    "plt.grid()\n",
    "plt.xlabel('Actual y')\n",
    "plt.ylabel('Predicted y')\n",
    "plt.title('Scatter plot from actual y and predicted y')\n",
    "plt.show()\n",
    "\n",
    "#good results, but not as good as Model 2 or Model 3"
   ]
  },
  {
   "cell_type": "code",
   "execution_count": 14,
   "metadata": {},
   "outputs": [
    {
     "name": "stdout",
     "output_type": "stream",
     "text": [
      "mse: 0.10678496027993072\n",
      "rmse: 0.3267796815591978\n",
      "r-squared: 0.9481745077145199\n",
      "training time: 0.012380300000000233\n"
     ]
    },
    {
     "data": {
      "image/png": "[encoded data removed]",
      "text/plain": [
       "<Figure size 432x288 with 1 Axes>"
      ]
     },
     "metadata": {
      "needs_background": "light"
     },
     "output_type": "display_data"
    }
   ],
   "source": [
    "#Model #4:  SGD Regressor  (Changed alpha to 0.5)\n",
    "\n",
    "sgd_reg4_= SGDRegressor(max_iter = 1000, penalty = \"l2\", alpha = 0.5, learning_rate = \"invscaling\")\n",
    "sgd_reg4_.fit(X_train_scaled, y_train)\n",
    "\n",
    "\n",
    "y_pred_sgd4=sgd_reg4_.predict(X_val_scaled)\n",
    "print(\"mse:\",mean_squared_error(y_val, y_pred_sgd4))\n",
    "print(\"rmse:\", sqrt(mean_squared_error(y_val, y_pred_sgd4)))\n",
    "print(\"r-squared:\", r2_score(y_val, y_pred_sgd4))\n",
    "print(\"training time:\", timeit.timeit())\n",
    "\n",
    "plt.scatter(y_test,y_pred_sgd4)\n",
    "plt.grid()\n",
    "plt.xlabel('Actual y')\n",
    "plt.ylabel('Predicted y')\n",
    "plt.title('Scatter plot from actual y and predicted y')\n",
    "plt.show()\n",
    "\n",
    "#not as good as other models, poorest model of all"
   ]
  },
  {
   "cell_type": "code",
   "execution_count": 15,
   "metadata": {},
   "outputs": [
    {
     "name": "stdout",
     "output_type": "stream",
     "text": [
      "mse: 0.19787623143375668\n",
      "rmse: 0.4448328129013829\n",
      "r-squared: 0.9039655670726754\n",
      "training time: 0.008522999999999392\n"
     ]
    },
    {
     "data": {
      "image/png": "[encoded data removed]",
      "text/plain": [
       "<Figure size 432x288 with 1 Axes>"
      ]
     },
     "metadata": {
      "needs_background": "light"
     },
     "output_type": "display_data"
    }
   ],
   "source": [
    "#Model #5:  SGD Regressor s(Changed alpha to 0.5 & learning Rate to Optimal, then had to change max iter to 10K to converge)\n",
    "\n",
    "sgd_reg5_= SGDRegressor(max_iter = 10000, penalty = \"l2\", alpha = 0.2, learning_rate = \"optimal\")\n",
    "sgd_reg5_.fit(X_train_scaled, y_train)\n",
    "\n",
    "\n",
    "y_pred_sgd5=sgd_reg5_.predict(X_val_scaled)\n",
    "print(\"mse:\",mean_squared_error(y_val, y_pred_sgd5))\n",
    "print(\"rmse:\", sqrt(mean_squared_error(y_val, y_pred_sgd5)))\n",
    "print(\"r-squared:\", r2_score(y_val, y_pred_sgd5))\n",
    "print(\"training time:\", timeit.timeit())\n",
    "\n",
    "plt.scatter(y_test,y_pred_sgd5)\n",
    "plt.grid()\n",
    "plt.xlabel('Actual y')\n",
    "plt.ylabel('Predicted y')\n",
    "plt.title('Scatter plot from actual y and predicted y')\n",
    "plt.show()\n",
    "\n",
    "#NOT AS bad as model #4"
   ]
  },
  {
   "cell_type": "code",
   "execution_count": 16,
   "metadata": {},
   "outputs": [
    {
     "data": {
      "image/png": "[encoded data removed]",
      "text/plain": [
       "<Figure size 864x720 with 2 Axes>"
      ]
     },
     "metadata": {
      "needs_background": "light"
     },
     "output_type": "display_data"
    }
   ],
   "source": [
    "#Filter Method for Feature Selection - select features if 50%+ correlation to Global Sales and remove those with\n",
    "#multi-collinearity\n",
    "\n",
    "#Using Pearson Correlation\n",
    "plt.figure(figsize=(12,10))\n",
    "cor = vgsales_df2.corr()\n",
    "sns.heatmap(cor, cmap=plt.cm.Reds)\n",
    "\n",
    "plt.show()"
   ]
  },
  {
   "cell_type": "code",
   "execution_count": 17,
   "metadata": {},
   "outputs": [
    {
     "data": {
      "text/plain": [
       "<matplotlib.axes._subplots.AxesSubplot at 0x1aa93f1eb08>"
      ]
     },
     "execution_count": 17,
     "metadata": {},
     "output_type": "execute_result"
    },
    {
     "data": {
      "image/png": "[encoded data removed]",
      "text/plain": [
       "<Figure size 432x288 with 2 Axes>"
      ]
     },
     "metadata": {
      "needs_background": "light"
     },
     "output_type": "display_data"
    }
   ],
   "source": [
    "sns.heatmap(vgsales_df2[['NA_Sales',  'EU_Sales']].corr(), annot=True)\n",
    "\n",
    "\n",
    "\n",
    "\n"
   ]
  },
  {
   "cell_type": "code",
   "execution_count": 20,
   "metadata": {},
   "outputs": [
    {
     "data": {
      "text/plain": [
       "<matplotlib.axes._subplots.AxesSubplot at 0x1aa93cfb888>"
      ]
     },
     "execution_count": 20,
     "metadata": {},
     "output_type": "execute_result"
    },
    {
     "data": {
      "image/png": "[encoded data removed]",
      "text/plain": [
       "<Figure size 432x288 with 2 Axes>"
      ]
     },
     "metadata": {
      "needs_background": "light"
     },
     "output_type": "display_data"
    }
   ],
   "source": [
    "sns.heatmap(vgsales_df2[['NA_Sales',  'JP_Sales']].corr(), annot=True)"
   ]
  },
  {
   "cell_type": "code",
   "execution_count": 21,
   "metadata": {},
   "outputs": [
    {
     "data": {
      "text/plain": [
       "<matplotlib.axes._subplots.AxesSubplot at 0x1aa93c1a1c8>"
      ]
     },
     "execution_count": 21,
     "metadata": {},
     "output_type": "execute_result"
    },
    {
     "data": {
      "image/png": "[encoded data removed]",
      "text/plain": [
       "<Figure size 432x288 with 2 Axes>"
      ]
     },
     "metadata": {
      "needs_background": "light"
     },
     "output_type": "display_data"
    }
   ],
   "source": [
    "sns.heatmap(vgsales_df2[['NA_Sales',  'Other_Sales']].corr(), annot=True)"
   ]
  },
  {
   "cell_type": "code",
   "execution_count": 22,
   "metadata": {},
   "outputs": [
    {
     "data": {
      "text/plain": [
       "<matplotlib.axes._subplots.AxesSubplot at 0x1aa93f27648>"
      ]
     },
     "execution_count": 22,
     "metadata": {},
     "output_type": "execute_result"
    },
    {
     "data": {
      "image/png": "[encoded data removed]",
      "text/plain": [
       "<Figure size 432x288 with 2 Axes>"
      ]
     },
     "metadata": {
      "needs_background": "light"
     },
     "output_type": "display_data"
    }
   ],
   "source": [
    "sns.heatmap(vgsales_df2[['JP_Sales',  'EU_Sales']].corr(), annot=True)"
   ]
  },
  {
   "cell_type": "code",
   "execution_count": 23,
   "metadata": {},
   "outputs": [
    {
     "data": {
      "text/plain": [
       "<matplotlib.axes._subplots.AxesSubplot at 0x1aa93f34d88>"
      ]
     },
     "execution_count": 23,
     "metadata": {},
     "output_type": "execute_result"
    },
    {
     "data": {
      "image/png": "[encoded data removed]",
      "text/plain": [
       "<Figure size 432x288 with 2 Axes>"
      ]
     },
     "metadata": {
      "needs_background": "light"
     },
     "output_type": "display_data"
    }
   ],
   "source": [
    "sns.heatmap(vgsales_df2[['JP_Sales',  'Other_Sales']].corr(), annot=True)"
   ]
  },
  {
   "cell_type": "code",
   "execution_count": 24,
   "metadata": {},
   "outputs": [
    {
     "data": {
      "text/plain": [
       "<matplotlib.axes._subplots.AxesSubplot at 0x1aa93f77fc8>"
      ]
     },
     "execution_count": 24,
     "metadata": {},
     "output_type": "execute_result"
    },
    {
     "data": {
      "image/png": "[encoded data removed]",
      "text/plain": [
       "<Figure size 432x288 with 2 Axes>"
      ]
     },
     "metadata": {
      "needs_background": "light"
     },
     "output_type": "display_data"
    }
   ],
   "source": [
    "sns.heatmap(vgsales_df2[['NA_Sales',  'Avg_Annual_Sales']].corr(), annot=True)"
   ]
  },
  {
   "cell_type": "code",
   "execution_count": 25,
   "metadata": {},
   "outputs": [
    {
     "data": {
      "text/plain": [
       "NA_Sales            0.941499\n",
       "EU_Sales            0.903753\n",
       "JP_Sales            0.613358\n",
       "Other_Sales         0.747362\n",
       "Global_Sales        1.000000\n",
       "Avg_Annual_Sales    0.651782\n",
       "Name: Global_Sales, dtype: float64"
      ]
     },
     "execution_count": 25,
     "metadata": {},
     "output_type": "execute_result"
    }
   ],
   "source": [
    "#Correlation with output variable\n",
    "cor_target = abs(cor[\"Global_Sales\"])\n",
    "#Selecting highly correlated features\n",
    "relevant_features = cor_target[cor_target>0.5]\n",
    "relevant_features\n",
    "\n",
    "#these variables are highly relevant to Global Sales\n",
    "#drop Year_1_Sales because it is a formula we created"
   ]
  },
  {
   "cell_type": "code",
   "execution_count": null,
   "metadata": {},
   "outputs": [],
   "source": []
  },
  {
   "cell_type": "code",
   "execution_count": 26,
   "metadata": {},
   "outputs": [
    {
     "name": "stdout",
     "output_type": "stream",
     "text": [
      "          NA_Sales  EU_Sales\n",
      "NA_Sales  1.000000  0.770262\n",
      "EU_Sales  0.770262  1.000000\n",
      "          NA_Sales  JP_Sales\n",
      "NA_Sales  1.000000  0.451618\n",
      "JP_Sales  0.451618  1.000000\n",
      "             NA_Sales  Other_Sales\n",
      "NA_Sales     1.000000     0.634225\n",
      "Other_Sales  0.634225     1.000000\n",
      "                  NA_Sales  Avg_Annual_Sales\n",
      "NA_Sales          1.000000          0.562703\n",
      "Avg_Annual_Sales  0.562703          1.000000\n",
      "          EU_Sales  JP_Sales\n",
      "EU_Sales  1.000000  0.437859\n",
      "JP_Sales  0.437859  1.000000\n",
      "             EU_Sales  Other_Sales\n",
      "EU_Sales     1.000000     0.725572\n",
      "Other_Sales  0.725572     1.000000\n",
      "                  EU_Sales  Avg_Annual_Sales\n",
      "EU_Sales          1.000000          0.684697\n",
      "Avg_Annual_Sales  0.684697          1.000000\n",
      "                  Other_Sales  Avg_Annual_Sales\n",
      "Other_Sales           1.00000           0.59193\n",
      "Avg_Annual_Sales      0.59193           1.00000\n",
      "             JP_Sales  Other_Sales\n",
      "JP_Sales     1.000000     0.290955\n",
      "Other_Sales  0.290955     1.000000\n",
      "                  JP_Sales  Avg_Annual_Sales\n",
      "JP_Sales          1.000000          0.314399\n",
      "Avg_Annual_Sales  0.314399          1.000000\n"
     ]
    }
   ],
   "source": [
    "#check for multi-collinearity to determine which variables to keep and which to discard\n",
    "print(vgsales_df2[[\"NA_Sales\",\"EU_Sales\"]].corr())\n",
    "print(vgsales_df2[[\"NA_Sales\",\"JP_Sales\"]].corr())\n",
    "print(vgsales_df2[[\"NA_Sales\",\"Other_Sales\"]].corr())\n",
    "print(vgsales_df2[[\"NA_Sales\",\"Avg_Annual_Sales\"]].corr())\n",
    "print(vgsales_df2[[\"EU_Sales\",\"JP_Sales\"]].corr())\n",
    "print(vgsales_df2[[\"EU_Sales\",\"Other_Sales\"]].corr())\n",
    "print(vgsales_df2[[\"EU_Sales\",\"Avg_Annual_Sales\"]].corr())\n",
    "print(vgsales_df2[[\"Other_Sales\",\"Avg_Annual_Sales\"]].corr())\n",
    "print(vgsales_df2[[\"JP_Sales\",\"Other_Sales\"]].corr())\n",
    "print(vgsales_df2[[\"JP_Sales\",\"Avg_Annual_Sales\"]].corr())\n",
    "\n",
    "#NA & EU Sales highly correlated, remove EU Sales\n",
    "#NA & Other Sales highly correlated, remove Other Sales\n",
    "#NA & Avg ANnual Sales highly correlated, remove avg annual sales\n",
    "\n",
    "#the problem is this method recommends we remove the platform type, first-party and genres\n",
    "#we don't really know what drives NA Sales which drives global sales\n"
   ]
  },
  {
   "cell_type": "code",
   "execution_count": 42,
   "metadata": {},
   "outputs": [
    {
     "data": {
      "text/plain": [
       "const               0.818791\n",
       "NA_Sales            0.000000\n",
       "EU_Sales            0.000000\n",
       "JP_Sales            0.000000\n",
       "Other_Sales         0.000000\n",
       "Years_In_Market     0.681603\n",
       "Avg_Annual_Sales    0.534846\n",
       "Action              0.622199\n",
       "Adventure           0.561690\n",
       "Fighting            0.131010\n",
       "Misc                0.853590\n",
       "Puzzle              0.241280\n",
       "Racing              0.897881\n",
       "Role-Playing        0.280065\n",
       "Shooter             0.713289\n",
       "Simulation          0.930271\n",
       "Sports              0.783636\n",
       "Strategy            0.866727\n",
       "Microsoft           0.582783\n",
       "Nintendo            0.662784\n",
       "PC                  0.043663\n",
       "Sony                0.091463\n",
       "Console             0.234569\n",
       "HH                  0.295066\n",
       "PC                  0.043663\n",
       "dtype: float64"
      ]
     },
     "execution_count": 42,
     "metadata": {},
     "output_type": "execute_result"
    }
   ],
   "source": [
    "#wrapper method - considered better than filter method bc you add/remove features based on model performance\n",
    "#backward method = add all possible features and remove iteratively based on perfomance\n",
    "#performance is defined by p-value, >0.05, we remove\n",
    "\n",
    "#Adding constant column of ones, mandatory for sm.OLS model\n",
    "X_1 = sm.add_constant(X_train)\n",
    "#Fitting sm.OLS model\n",
    "model = sm.OLS(y_train,X_1).fit()\n",
    "model.pvalues\n",
    "\n",
    "\n",
    "\n"
   ]
  },
  {
   "cell_type": "code",
   "execution_count": 28,
   "metadata": {},
   "outputs": [
    {
     "name": "stdout",
     "output_type": "stream",
     "text": [
      "['NA_Sales', 'EU_Sales', 'JP_Sales', 'Other_Sales', 'Years_In_Market', 'Avg_Annual_Sales', 'Action', 'Adventure', 'Fighting', 'Misc', 'Puzzle', 'Racing', 'Role-Playing', 'Shooter', 'Simulation', 'Sports', 'Strategy', 'Microsoft', 'Nintendo', 'PC', 'Sony', 'Console', 'HH', 'PC']\n",
      "['const', 'NA_Sales', 'EU_Sales', 'JP_Sales', 'Other_Sales', 'Years_In_Market', 'Avg_Annual_Sales', 'Action', 'Adventure', 'Fighting', 'Misc', 'Puzzle', 'Racing', 'Role-Playing', 'Shooter', 'Simulation', 'Sports', 'Strategy', 'Microsoft', 'Nintendo', 'PC', 'Sony', 'Console', 'HH', 'PC']\n"
     ]
    }
   ],
   "source": [
    "#Backward Elimination\n",
    "cols_Xtrain = list(X_train.columns)\n",
    "print(cols_Xtrain)\n",
    "\n",
    "cols_X1 = list(X_1.columns)\n",
    "print(cols_X1)\n",
    "\n"
   ]
  },
  {
   "cell_type": "code",
   "execution_count": 29,
   "metadata": {},
   "outputs": [
    {
     "name": "stdout",
     "output_type": "stream",
     "text": [
      "0     0.000000\n",
      "1     0.000000\n",
      "2     0.000000\n",
      "3     0.000000\n",
      "4     0.681603\n",
      "5     0.534846\n",
      "6     0.622199\n",
      "7     0.561690\n",
      "8     0.131010\n",
      "9     0.853590\n",
      "10    0.241280\n",
      "11    0.897881\n",
      "12    0.280065\n",
      "13    0.713289\n",
      "14    0.930271\n",
      "15    0.783636\n",
      "16    0.866727\n",
      "17    0.582783\n",
      "18    0.662784\n",
      "19    0.043663\n",
      "20    0.091463\n",
      "21    0.234569\n",
      "22    0.295066\n",
      "23    0.043663\n",
      "dtype: float64\n"
     ]
    },
    {
     "data": {
      "text/plain": [
       "(24,)"
      ]
     },
     "execution_count": 29,
     "metadata": {},
     "output_type": "execute_result"
    }
   ],
   "source": [
    "p = pd.Series(model.pvalues.values[1:])\n",
    "print(p)\n",
    "p.shape"
   ]
  },
  {
   "cell_type": "code",
   "execution_count": 30,
   "metadata": {},
   "outputs": [
    {
     "name": "stdout",
     "output_type": "stream",
     "text": [
      "[ True  True  True  True False False False False False False  True False\n",
      " False False False False False False False  True  True  True  True  True]\n",
      "[ 1  1  1  1 15  9 11 10  2 13  1  8  5  6 14 12  7  3  4  1  1  1  1  1]\n",
      "Index(['NA_Sales', 'EU_Sales', 'JP_Sales', 'Other_Sales', 'Puzzle', 'PC',\n",
      "       'Sony', 'Console', 'HH', 'PC'],\n",
      "      dtype='object')\n"
     ]
    }
   ],
   "source": [
    "#run the model with the optimal # of features\n",
    "\n",
    "cols2 = list(X_train.columns)\n",
    "#best # of  features of model based on result in the next sell\n",
    "model2 = LinearRegression()\n",
    "#Initializing RFE model\n",
    "rfe = RFE(model2, 10)\n",
    "#Transforming data using RFE\n",
    "X_rfe = rfe.fit_transform(X_train,y_train)  \n",
    "#Fitting the data to model\n",
    "model2.fit(X_rfe,y_train)\n",
    "print(rfe.support_)\n",
    "print(rfe.ranking_)\n",
    "\n",
    "temp = pd.Series(rfe.support_,index = cols2)\n",
    "selected_features_rfe = temp[temp==True].index\n",
    "print(selected_features_rfe)\n",
    "\n",
    "#recommends EU Sales and not include other features"
   ]
  },
  {
   "cell_type": "code",
   "execution_count": 31,
   "metadata": {},
   "outputs": [
    {
     "name": "stdout",
     "output_type": "stream",
     "text": [
      "Optimum number of features: 1\n",
      "Score with 1 features: 0.999987\n"
     ]
    }
   ],
   "source": [
    "#find the optimal # of features\n",
    "\n",
    "#no of features\n",
    "nof_list=np.arange(1,30)            \n",
    "high_score=0\n",
    "#Variable to store the optimum features\n",
    "nof=0           \n",
    "score_list =[]\n",
    "for n in range(len(nof_list)):\n",
    "    model3 = LinearRegression()\n",
    "    rfe2 = RFE(model3,nof_list[n])\n",
    "    X_train_rfe = rfe.fit_transform(X_train,y_train)\n",
    "    X_val_rfe = rfe.transform(X_val)\n",
    "    model3.fit(X_train_rfe,y_train)\n",
    "    score = model3.score(X_val_rfe,y_val)\n",
    "    score_list.append(score)\n",
    "    if(score>high_score):\n",
    "        high_score = score\n",
    "        nof = nof_list[n]\n",
    "print(\"Optimum number of features: %d\" %nof)\n",
    "print(\"Score with %d features: %f\" % (nof, high_score))"
   ]
  },
  {
   "cell_type": "code",
   "execution_count": 32,
   "metadata": {},
   "outputs": [
    {
     "name": "stdout",
     "output_type": "stream",
     "text": [
      "Best alpha using built-in LassoCV: 0.001326\n",
      "Best score using built-in LassoCV: 0.767027\n"
     ]
    },
    {
     "name": "stderr",
     "output_type": "stream",
     "text": [
      "C:\\Users\\kyoun\\Anaconda3\\lib\\site-packages\\sklearn\\model_selection\\_split.py:1978: FutureWarning: The default value of cv will change from 3 to 5 in version 0.22. Specify it explicitly to silence this warning.\n",
      "  warnings.warn(CV_WARNING, FutureWarning)\n"
     ]
    }
   ],
   "source": [
    "#embeded feature selection\n",
    "\n",
    "lasso_reg = LassoCV()\n",
    "lasso_reg.fit(X_train_scaled, y_train)\n",
    "print(\"Best alpha using built-in LassoCV: %f\" % lasso_reg.alpha_)\n",
    "print(\"Best score using built-in LassoCV: %f\" % lasso_reg.score(X,y))\n",
    "coef = pd.Series(lasso_reg.coef_, index = X_train.columns)"
   ]
  },
  {
   "cell_type": "code",
   "execution_count": 33,
   "metadata": {},
   "outputs": [
    {
     "name": "stdout",
     "output_type": "stream",
     "text": [
      "Lasso picked 4 variables and eliminated the other 20 variables\n"
     ]
    }
   ],
   "source": [
    "print(\"Lasso picked \" + str(sum(coef != 0)) + \" variables and eliminated the other \" +  str(sum(coef == 0)) + \" variables\")"
   ]
  },
  {
   "cell_type": "code",
   "execution_count": 34,
   "metadata": {},
   "outputs": [
    {
     "data": {
      "text/plain": [
       "Text(0.5, 1.0, 'Feature importance using Lasso Model')"
      ]
     },
     "execution_count": 34,
     "metadata": {},
     "output_type": "execute_result"
    },
    {
     "data": {
      "image/png": "[encoded data removed]",
      "text/plain": [
       "<Figure size 576x720 with 1 Axes>"
      ]
     },
     "metadata": {
      "needs_background": "light"
     },
     "output_type": "display_data"
    }
   ],
   "source": [
    "imp_coef = coef.sort_values()\n",
    "import matplotlib\n",
    "matplotlib.rcParams['figure.figsize'] = (8.0, 10.0)\n",
    "imp_coef.plot(kind = \"barh\")\n",
    "plt.title(\"Feature importance using Lasso Model\")\n",
    "\n",
    "#keep the regional sales only and eliminate other features\n",
    "#But EU and Other Sales have high multicollinearity with, should only keep NA Sales and JP Sales"
   ]
  },
  {
   "cell_type": "code",
   "execution_count": 35,
   "metadata": {
    "scrolled": true
   },
   "outputs": [
    {
     "ename": "ValueError",
     "evalue": "Length of passed values is 24, index implies 23",
     "output_type": "error",
     "traceback": [
      "\u001b[1;31m---------------------------------------------------------------------------\u001b[0m",
      "\u001b[1;31mValueError\u001b[0m                                Traceback (most recent call last)",
      "\u001b[1;32m<ipython-input-35-b91e7bb216e8>\u001b[0m in \u001b[0;36m<module>\u001b[1;34m\u001b[0m\n\u001b[0;32m      2\u001b[0m \u001b[1;32mwhile\u001b[0m \u001b[1;33m(\u001b[0m\u001b[0mlen\u001b[0m\u001b[1;33m(\u001b[0m\u001b[0mcols_Xtrain\u001b[0m\u001b[1;33m)\u001b[0m\u001b[1;33m>\u001b[0m\u001b[1;36m0\u001b[0m\u001b[1;33m)\u001b[0m\u001b[1;33m:\u001b[0m\u001b[1;33m\u001b[0m\u001b[1;33m\u001b[0m\u001b[0m\n\u001b[0;32m      3\u001b[0m     \u001b[0mp\u001b[0m\u001b[1;33m=\u001b[0m \u001b[1;33m[\u001b[0m\u001b[1;33m]\u001b[0m\u001b[1;33m\u001b[0m\u001b[1;33m\u001b[0m\u001b[0m\n\u001b[1;32m----> 4\u001b[1;33m     \u001b[0mp\u001b[0m \u001b[1;33m=\u001b[0m \u001b[0mpd\u001b[0m\u001b[1;33m.\u001b[0m\u001b[0mSeries\u001b[0m\u001b[1;33m(\u001b[0m\u001b[0mmodel\u001b[0m\u001b[1;33m.\u001b[0m\u001b[0mpvalues\u001b[0m\u001b[1;33m.\u001b[0m\u001b[0mvalues\u001b[0m\u001b[1;33m[\u001b[0m\u001b[1;36m1\u001b[0m\u001b[1;33m:\u001b[0m\u001b[1;33m]\u001b[0m\u001b[1;33m,\u001b[0m\u001b[0mindex\u001b[0m \u001b[1;33m=\u001b[0m \u001b[0mcols_Xtrain\u001b[0m\u001b[1;33m)\u001b[0m\u001b[1;33m\u001b[0m\u001b[1;33m\u001b[0m\u001b[0m\n\u001b[0m\u001b[0;32m      5\u001b[0m     \u001b[0mpmax\u001b[0m \u001b[1;33m=\u001b[0m \u001b[0mmax\u001b[0m\u001b[1;33m(\u001b[0m\u001b[0mp\u001b[0m\u001b[1;33m)\u001b[0m\u001b[1;33m\u001b[0m\u001b[1;33m\u001b[0m\u001b[0m\n\u001b[0;32m      6\u001b[0m     \u001b[0mfeature_with_p_max\u001b[0m \u001b[1;33m=\u001b[0m \u001b[0mp\u001b[0m\u001b[1;33m.\u001b[0m\u001b[0midxmax\u001b[0m\u001b[1;33m(\u001b[0m\u001b[1;33m)\u001b[0m\u001b[1;33m\u001b[0m\u001b[1;33m\u001b[0m\u001b[0m\n",
      "\u001b[1;32m~\\Anaconda3\\lib\\site-packages\\pandas\\core\\series.py\u001b[0m in \u001b[0;36m__init__\u001b[1;34m(self, data, index, dtype, name, copy, fastpath)\u001b[0m\n\u001b[0;32m    297\u001b[0m                         raise ValueError(\n\u001b[0;32m    298\u001b[0m                             \u001b[1;34m\"Length of passed values is {val}, \"\u001b[0m\u001b[1;33m\u001b[0m\u001b[1;33m\u001b[0m\u001b[0m\n\u001b[1;32m--> 299\u001b[1;33m                             \u001b[1;34m\"index implies {ind}\"\u001b[0m\u001b[1;33m.\u001b[0m\u001b[0mformat\u001b[0m\u001b[1;33m(\u001b[0m\u001b[0mval\u001b[0m\u001b[1;33m=\u001b[0m\u001b[0mlen\u001b[0m\u001b[1;33m(\u001b[0m\u001b[0mdata\u001b[0m\u001b[1;33m)\u001b[0m\u001b[1;33m,\u001b[0m \u001b[0mind\u001b[0m\u001b[1;33m=\u001b[0m\u001b[0mlen\u001b[0m\u001b[1;33m(\u001b[0m\u001b[0mindex\u001b[0m\u001b[1;33m)\u001b[0m\u001b[1;33m)\u001b[0m\u001b[1;33m\u001b[0m\u001b[1;33m\u001b[0m\u001b[0m\n\u001b[0m\u001b[0;32m    300\u001b[0m                         )\n\u001b[0;32m    301\u001b[0m                 \u001b[1;32mexcept\u001b[0m \u001b[0mTypeError\u001b[0m\u001b[1;33m:\u001b[0m\u001b[1;33m\u001b[0m\u001b[1;33m\u001b[0m\u001b[0m\n",
      "\u001b[1;31mValueError\u001b[0m: Length of passed values is 24, index implies 23"
     ]
    }
   ],
   "source": [
    "pmax = 1\n",
    "while (len(cols_Xtrain)>0):\n",
    "    p= []\n",
    "    p = pd.Series(model.pvalues.values[1:],index = cols_Xtrain)     \n",
    "    pmax = max(p)\n",
    "    feature_with_p_max = p.idxmax()\n",
    "    if(pmax>0.05):\n",
    "        cols_Xtrain.remove(feature_with_p_max)\n",
    "    else:\n",
    "        break\n",
    "selected_features_BE = cols_Xtrain\n",
    "print(selected_features_BE)\n",
    "\n",
    "#cannot run because the p returns more columns than the index, it is counting the constant whereas the index does not"
   ]
  },
  {
   "cell_type": "code",
   "execution_count": null,
   "metadata": {},
   "outputs": [],
   "source": []
  }
 ],
 "metadata": {
  "kernelspec": {
   "display_name": "Python 3",
   "language": "python",
   "name": "python3"
  },
  "language_info": {
   "codemirror_mode": {
    "name": "ipython",
    "version": 3
   },
   "file_extension": ".py",
   "mimetype": "text/x-python",
   "name": "python",
   "nbconvert_exporter": "python",
   "pygments_lexer": "ipython3",
   "version": "3.7.4"
  }
 },
 "nbformat": 4,
 "nbformat_minor": 2
}
