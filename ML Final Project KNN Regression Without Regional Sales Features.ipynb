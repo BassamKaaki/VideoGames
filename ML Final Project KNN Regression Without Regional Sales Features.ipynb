{
 "cells": [
  {
   "cell_type": "markdown",
   "metadata": {},
   "source": [
    "KNN Regression (Kristin)\n",
    "1.  Model #1:  set neighbors based on 10\n",
    "2.  then find optimal # of neighbors \n",
    "3.  Model #2:  run model using optimal # of neighbors\n",
    "3.  Model #3:  run model using optimal # of neighors and changing distance equation to Manhattan (default = euclidean)\n",
    "\n"
   ]
  },
  {
   "cell_type": "code",
   "execution_count": 1,
   "metadata": {},
   "outputs": [],
   "source": [
    "import pandas as pd\n",
    "import numpy as np\n",
    "import matplotlib.pyplot as plt\n",
    "import seaborn as sns\n",
    "\n",
    "\n",
    "\n",
    "vgsales = pd.read_excel('vgsales_v5.xlsx')\n",
    "\n",
    "vgsales.head()\n",
    "\n",
    "# Create dummy variables for | Genre | First_Party | Platform_Type\n",
    "\n",
    "#dummy variables for Genre\n",
    "dummy_genre = pd.get_dummies(vgsales.Genre)\n",
    "dummy_genre\n",
    "\n",
    "#dummy variables for First Party\n",
    "dummy_first_party = pd.get_dummies(vgsales.First_Party)\n",
    "dummy_first_party\n",
    "\n",
    "#dummy variables for Platform Type\n",
    "dummy_platform_type = pd.get_dummies(vgsales.Platform_Type)\n",
    "dummy_platform_type\n",
    "\n",
    "#Merge dummy frames into one dataset with original vgsales datframe\n",
    "merged_vgsales = pd.concat([vgsales, dummy_genre, dummy_first_party, dummy_platform_type], axis='columns')\n",
    "\n",
    "\n",
    "\n",
    "\n",
    "\n"
   ]
  },
  {
   "cell_type": "code",
   "execution_count": 2,
   "metadata": {},
   "outputs": [],
   "source": [
    "vgsales_df = pd.DataFrame(merged_vgsales)\n",
    "\n"
   ]
  },
  {
   "cell_type": "code",
   "execution_count": 3,
   "metadata": {},
   "outputs": [],
   "source": [
    "#drop Rank (it is perfectly correlated with sales because it is based on global sales & is a result of sales\n",
    "# drop Name (a significant number of dummy variables would have to be created and we are not analyzing the impact of name, but trying to understand impact of genre, platform and region on sales)\n",
    "#drop Platform (we have created Platform Type and First Parties categories that are more meaningful than Platform)\n",
    "#drop Publisher (similar reason as Name)\n",
    "\n",
    "vgsales_df2 = vgsales_df.drop(columns = [\"Rank\",\"Name\", \"Platform\", \"Publisher\",\"Genre\", \"First_Party\", \"Platform_Type\",\"Year_1_Sales\", \"Year\", \"Atari\",\"SEGA\", \"Other\",\"EU_Sales\", \"Other_Sales\",\"Avg_Annual_Sales\",\"NA_Sales\",\"JP_Sales\"])"
   ]
  },
  {
   "cell_type": "code",
   "execution_count": 4,
   "metadata": {},
   "outputs": [],
   "source": [
    "#Create X, y\n",
    "\n",
    "X = vgsales_df2.drop(columns = \"Global_Sales\")\n",
    "y = vgsales_df2.Global_Sales"
   ]
  },
  {
   "cell_type": "code",
   "execution_count": 5,
   "metadata": {},
   "outputs": [
    {
     "name": "stdout",
     "output_type": "stream",
     "text": [
      "(12783, 19)\n",
      "(12783,)\n",
      "(1598, 19)\n",
      "(1598,)\n",
      "(1598, 19)\n",
      "(1598,)\n"
     ]
    }
   ],
   "source": [
    "#create test/train/validation sets, 80% = train, 10% = test, 10% = validation\n",
    "#check shape to ensure similar sizes \n",
    "\n",
    "from sklearn.model_selection import train_test_split\n",
    "\n",
    "X_train, X_test, y_train, y_test = train_test_split(X, y, test_size = 0.2, random_state = 42)\n",
    "X_val, X_test, y_val, y_test = train_test_split(X_test, y_test, test_size = 0.5, random_state = 42)\n",
    "\n",
    "print(X_train.shape)\n",
    "print(y_train.shape)\n",
    "print(X_val.shape)\n",
    "print(y_val.shape)\n",
    "print(X_test.shape)\n",
    "print(y_test.shape)"
   ]
  },
  {
   "cell_type": "markdown",
   "metadata": {},
   "source": [
    "KNN"
   ]
  },
  {
   "cell_type": "code",
   "execution_count": 6,
   "metadata": {},
   "outputs": [],
   "source": [
    "#Libraries for KNN Linear Regression\n",
    "from sklearn.metrics import mean_squared_error\n",
    "from sklearn.neighbors import KNeighborsRegressor\n",
    "from math import sqrt\n",
    "from sklearn.metrics import r2_score\n",
    "%matplotlib inline\n",
    "import timeit"
   ]
  },
  {
   "cell_type": "code",
   "execution_count": 7,
   "metadata": {
    "scrolled": true
   },
   "outputs": [
    {
     "name": "stdout",
     "output_type": "stream",
     "text": [
      "mse: 2.1646990043804752\n",
      "rmse: 1.4712916109257455\n",
      "r-squared: -0.05058419516958179\n",
      "training time: 0.007947600000000499\n"
     ]
    }
   ],
   "source": [
    "#Model #1:  KNN set to 10 neighbors\n",
    "\n",
    "knn = KNeighborsRegressor(n_neighbors = 10)\n",
    "knn.fit(X_train,y_train)\n",
    "\n",
    "\n",
    "y_pred = knn.predict(X_val)\n",
    "print(\"mse:\",mean_squared_error(y_val, y_pred))\n",
    "print(\"rmse:\", sqrt(mean_squared_error(y_val, y_pred)))\n",
    "print(\"r-squared:\", r2_score(y_val, y_pred))\n",
    "print(\"training time:\", timeit.timeit())\n",
    "\n",
    "#the poorest performing model among the knn models\n"
   ]
  },
  {
   "cell_type": "code",
   "execution_count": 8,
   "metadata": {},
   "outputs": [
    {
     "name": "stdout",
     "output_type": "stream",
     "text": [
      "[2.895439467877057, 1.977716035360145, 1.7080330769845837, 1.6531850859792985, 1.5629196523813211, 1.528413059913207, 1.5089585710668763, 1.489046248657127, 1.4834201791038066, 1.4712916109257455, 1.461309197781286, 1.4531413928785875, 1.452271042892775, 1.4453033473700714, 1.4447598298435744, 1.4390845338121079, 1.4337615682325218, 1.4322792858868278, 1.4306086973531948, 1.4303254098841285, 1.4303660619962968, 1.4314762078816448, 1.4292979815651394, 1.428440416257393, 1.4261689996348257, 1.4260621119854013, 1.428421868072566, 1.4255965279407576, 1.4255034069607433, 1.4253409379232689, 1.4237804461654355, 1.419147368746157, 1.416770022305526, 1.4166514283628893, 1.4149808867478801, 1.414785319106694, 1.4188032544433544, 1.4164059212956364, 1.4170306398499106, 1.4169390412977387, 1.4156256499154916, 1.4172632418496762, 1.4155090941745785, 1.4157839603239009, 1.4176458754499612, 1.4192264894101576, 1.4205036255940187, 1.4201078316560645, 1.419122834987425, 1.419271663713214]\n"
     ]
    },
    {
     "data": {
      "text/plain": [
       "[<matplotlib.lines.Line2D at 0x284254bee88>]"
      ]
     },
     "execution_count": 8,
     "metadata": {},
     "output_type": "execute_result"
    },
    {
     "data": {
      "image/png": "[encoded data removed]",
      "text/plain": [
       "<Figure size 432x288 with 1 Axes>"
      ]
     },
     "metadata": {
      "needs_background": "light"
     },
     "output_type": "display_data"
    }
   ],
   "source": [
    "#Find optimal KNN\n",
    "\n",
    "error = []\n",
    "for k in range(1,51):\n",
    "    knn_optimal = KNeighborsRegressor(n_neighbors = k)\n",
    "    knn_optimal.fit(X_train,y_train)\n",
    "    y_pred_optimal = knn_optimal.predict(X_val) \n",
    "    error.append(sqrt(mean_squared_error(y_val, y_pred_optimal)))\n",
    "\n",
    "print(error)\n",
    "\n",
    "plt.plot(range(1,51), error)\n",
    "\n",
    "#26 is the optimal number of n_neighbors"
   ]
  },
  {
   "cell_type": "code",
   "execution_count": 11,
   "metadata": {},
   "outputs": [
    {
     "name": "stdout",
     "output_type": "stream",
     "text": [
      "mse: 2.0336531472402632\n",
      "rmse: 1.4260621119854013\n",
      "r-squared: 0.013015735386749494\n",
      "training time: 0.007484300000001554\n"
     ]
    }
   ],
   "source": [
    "#Model #2:  n_neighbors = 26\n",
    "\n",
    "knn2 = KNeighborsRegressor(n_neighbors = 26)\n",
    "knn2.fit(X_train,y_train)\n",
    "\n",
    "y_pred2 = knn2.predict(X_val)\n",
    "print(\"mse:\",mean_squared_error(y_val, y_pred2))\n",
    "print(\"rmse:\", sqrt(mean_squared_error(y_val, y_pred2)))\n",
    "print(\"r-squared:\", r2_score(y_val, y_pred2))\n",
    "print(\"training time:\", timeit.timeit())\n",
    "\n",
    "#model with 4 neighbors performs better than Model #1 with 10 neighbors"
   ]
  },
  {
   "cell_type": "code",
   "execution_count": 12,
   "metadata": {},
   "outputs": [
    {
     "name": "stdout",
     "output_type": "stream",
     "text": [
      "mse: 2.03788161773963\n",
      "rmse: 1.4275439109672354\n",
      "r-squared: 0.010963549716877519\n",
      "training time: 0.008076200000004974\n"
     ]
    }
   ],
   "source": [
    "#Model #3:  change distance equation to Manhattan, keep 26 neighbors\n",
    "\n",
    "knn3 = KNeighborsRegressor(n_neighbors = 26, p = 1)\n",
    "knn3.fit(X_train,y_train)\n",
    "\n",
    "y_pred3 = knn3.predict(X_val)\n",
    "print(\"mse:\",mean_squared_error(y_val, y_pred3))\n",
    "print(\"rmse:\", sqrt(mean_squared_error(y_val, y_pred3)))\n",
    "print(\"r-squared:\", r2_score(y_val, y_pred3))\n",
    "print(\"training time:\", timeit.timeit())\n",
    "\n",
    "#This model is weaker than the others"
   ]
  },
  {
   "cell_type": "code",
   "execution_count": null,
   "metadata": {},
   "outputs": [],
   "source": []
  }
 ],
 "metadata": {
  "kernelspec": {
   "display_name": "Python 3",
   "language": "python",
   "name": "python3"
  },
  "language_info": {
   "codemirror_mode": {
    "name": "ipython",
    "version": 3
   },
   "file_extension": ".py",
   "mimetype": "text/x-python",
   "name": "python",
   "nbconvert_exporter": "python",
   "pygments_lexer": "ipython3",
   "version": "3.7.4"
  }
 },
 "nbformat": 4,
 "nbformat_minor": 2
}
