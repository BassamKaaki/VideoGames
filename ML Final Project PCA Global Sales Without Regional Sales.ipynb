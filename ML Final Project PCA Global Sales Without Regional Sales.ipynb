{
 "cells": [
  {
   "cell_type": "markdown",
   "metadata": {},
   "source": [
    "Applying PCA from Leo (week 7 class), using vgsales_df2 with all regional sales removed.  21 features in total, global sales as target."
   ]
  },
  {
   "cell_type": "markdown",
   "metadata": {},
   "source": [
    "Following the example from https://sebastianraschka.com/Articles/2015_pca_in_3_steps.html#:~:text=The%20eigenvectors%20and%20eigenvalues%20of,the%20eigenvalues%20determine%20their%20magnitude."
   ]
  },
  {
   "cell_type": "code",
   "execution_count": 1,
   "metadata": {
    "ExecuteTime": {
     "end_time": "2020-08-07T03:15:52.582929Z",
     "start_time": "2020-08-07T03:15:51.320102Z"
    }
   },
   "outputs": [],
   "source": [
    "from sklearn.datasets import load_iris\n",
    "import numpy as np\n",
    "from matplotlib import pyplot as plt\n",
    "import pandas as pd"
   ]
  },
  {
   "cell_type": "code",
   "execution_count": 2,
   "metadata": {
    "ExecuteTime": {
     "end_time": "2020-08-07T03:16:08.076070Z",
     "start_time": "2020-08-07T03:16:07.509592Z"
    }
   },
   "outputs": [],
   "source": [
    "#insert data source\n",
    "vgsales = pd.read_excel('vgsales_v5.xlsx')\n",
    "\n",
    "vgsales.head()\n",
    "\n",
    "# Create dummy variables for | Genre | First_Party | Platform_Type\n",
    "\n",
    "#dummy variables for Genre\n",
    "dummy_genre = pd.get_dummies(vgsales.Genre)\n",
    "dummy_genre\n",
    "\n",
    "#dummy variables for First Party\n",
    "dummy_first_party = pd.get_dummies(vgsales.First_Party)\n",
    "dummy_first_party\n",
    "\n",
    "#dummy variables for Platform Type\n",
    "dummy_platform_type = pd.get_dummies(vgsales.Platform_Type)\n",
    "dummy_platform_type\n",
    "\n",
    "#Merge dummy frames into one dataset with original vgsales datframe\n",
    "merged_vgsales = pd.concat([vgsales, dummy_genre, dummy_first_party, dummy_platform_type], axis='columns')\n",
    "\n",
    "vgsales_df = pd.DataFrame(merged_vgsales)\n",
    "vgsales_df2 = vgsales_df.drop(columns = [\"Rank\",\"Name\", \"Platform\", \"Publisher\",\"Genre\", \"First_Party\", \"Platform_Type\",\"Year_1_Sales\", \"Year\", \"Atari\",\"SEGA\", \"Other\",\"EU_Sales\", \"Other_Sales\",\"Avg_Annual_Sales\",\"NA_Sales\",\"JP_Sales\"])\n"
   ]
  },
  {
   "cell_type": "code",
   "execution_count": 3,
   "metadata": {
    "ExecuteTime": {
     "end_time": "2020-08-07T03:16:08.081388Z",
     "start_time": "2020-08-07T03:16:08.077986Z"
    }
   },
   "outputs": [],
   "source": [
    "#define X & y\n",
    "X = vgsales_df2.drop(columns = \"Global_Sales\")\n",
    "y = vgsales_df2.Global_Sales\n",
    "\n",
    "\n"
   ]
  },
  {
   "cell_type": "code",
   "execution_count": 4,
   "metadata": {
    "ExecuteTime": {
     "end_time": "2020-08-07T03:17:01.436467Z",
     "start_time": "2020-08-07T03:17:01.431529Z"
    }
   },
   "outputs": [],
   "source": [
    "from sklearn.preprocessing import StandardScaler\n",
    "X_std = StandardScaler().fit_transform(X)"
   ]
  },
  {
   "cell_type": "code",
   "execution_count": 5,
   "metadata": {},
   "outputs": [
    {
     "name": "stdout",
     "output_type": "stream",
     "text": [
      "(1598, 19)\n",
      "(1598,)\n",
      "(1598, 19)\n",
      "(1598,)\n",
      "(12783, 19)\n",
      "(12783,)\n"
     ]
    }
   ],
   "source": [
    "#create train/val/test data\n",
    "\n",
    "from sklearn.model_selection import train_test_split\n",
    "\n",
    "X_train, X_test, y_train, y_test = train_test_split(X_std, y, test_size = 0.2, random_state = 42)\n",
    "X_val, X_test, y_val, y_test = train_test_split(X_test, y_test, test_size = 0.5, random_state = 42)\n",
    "\n",
    "print(X_test.shape)\n",
    "print(y_test.shape)\n",
    "print(X_val.shape)\n",
    "print(y_val.shape)\n",
    "print(X_train.shape)\n",
    "print(y_train.shape)"
   ]
  },
  {
   "cell_type": "code",
   "execution_count": 6,
   "metadata": {
    "ExecuteTime": {
     "end_time": "2020-08-07T03:17:05.875746Z",
     "start_time": "2020-08-07T03:17:05.872806Z"
    }
   },
   "outputs": [],
   "source": [
    "import numpy as np\n",
    "cov_mat = np.cov(X_train.T)"
   ]
  },
  {
   "cell_type": "code",
   "execution_count": 7,
   "metadata": {
    "ExecuteTime": {
     "end_time": "2020-08-07T03:17:33.915727Z",
     "start_time": "2020-08-07T03:17:33.910299Z"
    }
   },
   "outputs": [
    {
     "data": {
      "text/plain": [
       "array([[ 0.99377404, -0.12486643, -0.08768908,  0.07348136, -0.06122536,\n",
       "         0.02849537,  0.08337205, -0.03663009,  0.02312805, -0.01150979,\n",
       "         0.07008501,  0.03125883, -0.12090262,  0.01459468, -0.09352411,\n",
       "        -0.00509228,  0.09348172, -0.10301717, -0.09352411],\n",
       "       [-0.12486643,  1.00658861, -0.14322217, -0.11714022, -0.17110597,\n",
       "        -0.0932121 , -0.14560948, -0.15704739, -0.14106041, -0.11815087,\n",
       "        -0.200851  , -0.10469659,  0.03940136, -0.0235284 , -0.01565776,\n",
       "         0.00883936,  0.02783059, -0.00779172, -0.01565776],\n",
       "       [-0.08768908, -0.14322217,  0.99123633, -0.06761186, -0.09876021,\n",
       "        -0.05380085, -0.08404396, -0.09064578, -0.08141829, -0.06819519,\n",
       "        -0.11592867, -0.06042955, -0.05688888, -0.02692869, -0.00782933,\n",
       "         0.06398044, -0.02388806,  0.02286995, -0.00782933],\n",
       "       [ 0.07348136, -0.11714022, -0.06761186,  1.00929329, -0.08077515,\n",
       "        -0.04400327, -0.06873885, -0.07413843, -0.06659134, -0.05577628,\n",
       "        -0.09481709, -0.04942483,  0.00233501, -0.05191665, -0.05197132,\n",
       "         0.05012332,  0.07110733, -0.07259528, -0.05197132],\n",
       "       [-0.06122536, -0.17110597, -0.09876021, -0.08077515,  0.99839812,\n",
       "        -0.06427529, -0.1004064 , -0.10829352, -0.09726954, -0.08147205,\n",
       "        -0.13849871, -0.07219452, -0.02635767,  0.11278951, -0.06616662,\n",
       "        -0.05379634, -0.04462055,  0.08869139, -0.06616662],\n",
       "       [ 0.02849537, -0.0932121 , -0.05380085, -0.04400327, -0.06427529,\n",
       "         0.97307911, -0.05469763, -0.05899424, -0.05298879, -0.04438291,\n",
       "        -0.07544889, -0.03932886, -0.06170408,  0.13261974, -0.0079417 ,\n",
       "        -0.08294678, -0.12404357,  0.14173756, -0.0079417 ],\n",
       "       [ 0.08337205, -0.14560948, -0.08404396, -0.06873885, -0.1004064 ,\n",
       "        -0.05469763,  1.02118283, -0.09215671, -0.08277542, -0.06933191,\n",
       "        -0.11786103, -0.06143682,  0.04965232, -0.05053458, -0.01840562,\n",
       "         0.02782758,  0.07704146, -0.0696162 , -0.01840562],\n",
       "       [-0.03663009, -0.15704739, -0.09064578, -0.07413843, -0.10829352,\n",
       "        -0.05899424, -0.09215671,  1.00545338, -0.08927759, -0.07477807,\n",
       "        -0.12711925, -0.06626281, -0.05970146, -0.01599853,  0.01936495,\n",
       "         0.04998794, -0.0473871 ,  0.03854769,  0.01936495],\n",
       "       [ 0.02312805, -0.14106041, -0.08141829, -0.06659134, -0.09726954,\n",
       "        -0.05298879, -0.08277542, -0.08927759,  0.97439994, -0.06716587,\n",
       "        -0.11417886, -0.05951744,  0.11245457, -0.10979224,  0.06490216,\n",
       "        -0.00657493,  0.05886204, -0.10278997,  0.06490216],\n",
       "       [-0.01150979, -0.11815087, -0.06819519, -0.05577628, -0.08147205,\n",
       "        -0.04438291, -0.06933191, -0.07477807, -0.06716587,  1.00598715,\n",
       "        -0.09563514, -0.04985125, -0.03926011,  0.06252239,  0.08539547,\n",
       "        -0.06790903, -0.12167801,  0.0875004 ,  0.08539547],\n",
       "       [ 0.07008501, -0.200851  , -0.11592867, -0.09481709, -0.13849871,\n",
       "        -0.07544889, -0.11786103, -0.12711925, -0.11417886, -0.09563514,\n",
       "         0.9932646 , -0.08474481,  0.04865767, -0.03067975, -0.0656624 ,\n",
       "         0.03247668,  0.12775569, -0.09925646, -0.0656624 ],\n",
       "       [ 0.03125883, -0.10469659, -0.06042955, -0.04942483, -0.07219452,\n",
       "        -0.03932886, -0.06143682, -0.06626281, -0.05951744, -0.04985125,\n",
       "        -0.08474481,  1.01130703, -0.04103236, -0.04918738,  0.18942234,\n",
       "        -0.01483503, -0.08599345, -0.02058753,  0.18942234],\n",
       "       [-0.12090262,  0.03940136, -0.05688888,  0.00233501, -0.02635767,\n",
       "        -0.06170408,  0.04965232, -0.05970146,  0.11245457, -0.03926011,\n",
       "         0.04865767, -0.04103236,  1.00719048, -0.31649984, -0.09927447,\n",
       "        -0.326011  ,  0.25509459, -0.21178693, -0.09927447],\n",
       "       [ 0.01459468, -0.0235284 , -0.02692869, -0.05191665,  0.11278951,\n",
       "         0.13261974, -0.05053458, -0.01599853, -0.10979224,  0.06252239,\n",
       "        -0.03067975, -0.04918738, -0.31649984,  0.99982096, -0.19461312,\n",
       "        -0.63909701, -0.4903756 ,  0.66903356, -0.19461312],\n",
       "       [-0.09352411, -0.01565776, -0.00782933, -0.05197132, -0.06616662,\n",
       "        -0.0079417 , -0.01840562,  0.01936495,  0.06490216,  0.08539547,\n",
       "        -0.0656624 ,  0.18942234, -0.09927447, -0.19461312,  1.00787928,\n",
       "        -0.20046146, -0.38859724, -0.13022603,  1.00787928],\n",
       "       [-0.00509228,  0.00883936,  0.06398044,  0.05012332, -0.05379634,\n",
       "        -0.08294678,  0.02782758,  0.04998794, -0.00657493, -0.06790903,\n",
       "         0.03247668, -0.01483503, -0.326011  , -0.63909701, -0.20046146,\n",
       "         0.9991884 ,  0.51510354, -0.42765392, -0.20046146],\n",
       "       [ 0.09348172,  0.02783059, -0.02388806,  0.07110733, -0.04462055,\n",
       "        -0.12404357,  0.07704146, -0.0473871 ,  0.05886204, -0.12167801,\n",
       "         0.12775569, -0.08599345,  0.25509459, -0.4903756 , -0.38859724,\n",
       "         0.51510354,  0.99853517, -0.82901289, -0.38859724],\n",
       "       [-0.10301717, -0.00779172,  0.02286995, -0.07259528,  0.08869139,\n",
       "         0.14173756, -0.0696162 ,  0.03854769, -0.10278997,  0.0875004 ,\n",
       "        -0.09925646, -0.02058753, -0.21178693,  0.66903356, -0.13022603,\n",
       "        -0.42765392, -0.82901289,  0.9959772 , -0.13022603],\n",
       "       [-0.09352411, -0.01565776, -0.00782933, -0.05197132, -0.06616662,\n",
       "        -0.0079417 , -0.01840562,  0.01936495,  0.06490216,  0.08539547,\n",
       "        -0.0656624 ,  0.18942234, -0.09927447, -0.19461312,  1.00787928,\n",
       "        -0.20046146, -0.38859724, -0.13022603,  1.00787928]])"
      ]
     },
     "execution_count": 7,
     "metadata": {},
     "output_type": "execute_result"
    }
   ],
   "source": [
    "cov_mat"
   ]
  },
  {
   "cell_type": "code",
   "execution_count": 8,
   "metadata": {
    "ExecuteTime": {
     "end_time": "2020-08-07T03:18:02.019087Z",
     "start_time": "2020-08-07T03:18:02.013490Z"
    },
    "scrolled": true
   },
   "outputs": [
    {
     "name": "stdout",
     "output_type": "stream",
     "text": [
      "Eigenvectors \n",
      "[[-6.22636341e-02  7.03206241e-02 -2.62444313e-02 -9.19400168e-02\n",
      "   1.09512538e-02 -2.72510928e-01 -2.01578897e-01 -6.54644654e-01\n",
      "   4.97541367e-01 -2.25456652e-01 -8.47710834e-02 -1.54001538e-01\n",
      "   2.96187602e-01  9.46578190e-02  5.41676505e-02  2.75448816e-02\n",
      "   8.54681700e-02  3.86667437e-02  3.03251400e-16]\n",
      " [-1.72309645e-02  5.33035539e-03 -6.22426527e-03 -7.69351862e-02\n",
      "   4.25713464e-01 -3.47829526e-02  2.65027682e-01 -1.58264756e-01\n",
      "  -5.93090582e-01 -1.57440185e-01  2.13450962e-02 -9.50742323e-02\n",
      "   5.61855756e-01  4.61268226e-03  9.33687230e-03  5.77017271e-02\n",
      "   8.39994473e-02 -6.14279222e-02  6.94990456e-17]\n",
      " [ 5.07235823e-04  3.09511411e-04 -1.78551369e-03 -6.41379243e-02\n",
      "   2.88139295e-01  2.23723572e-02 -1.86050402e-01 -3.21945681e-01\n",
      "  -2.21672251e-01 -8.97966580e-02 -6.21780922e-02  2.13529766e-01\n",
      "  -3.45110201e-01 -6.03373474e-02  2.42894042e-01  1.48601839e-01\n",
      "  -6.24699977e-01  2.70849413e-01 -2.68961540e-16]\n",
      " [-7.04821654e-02  3.04102359e-02  3.39213611e-03 -5.71004309e-02\n",
      "   2.33438065e-01  6.84033439e-03 -9.87105455e-02  2.04354690e-01\n",
      "   1.47236891e-01 -7.60904865e-02  2.21784030e-01  5.19953118e-01\n",
      "   1.28251471e-01  2.01256351e-01 -4.73599726e-02  1.55799781e-01\n",
      "   3.34274953e-01  5.85298281e-01 -6.64587428e-16]\n",
      " [ 6.51710940e-02  1.13635519e-01  1.42878768e-04 -5.90066439e-02\n",
      "   3.28244119e-01 -6.72625468e-02  2.14190045e-02 -1.75426639e-01\n",
      "  -3.13071402e-02  3.21732127e-02  2.05850350e-01 -9.50111690e-02\n",
      "  -5.08740363e-01  1.02462906e-01 -1.48918276e-01  4.87643545e-01\n",
      "   3.77970564e-01 -3.32098463e-01 -2.39933233e-16]\n",
      " [ 1.15620436e-01  6.63607563e-02 -9.94555283e-05 -2.98198685e-02\n",
      "   1.96782901e-01  1.69917682e-02 -7.09145982e-02 -3.19100981e-02\n",
      "   1.04708986e-01  7.25399751e-01  3.76784464e-01 -2.89294195e-01\n",
      "   1.45850958e-01  3.41430140e-02  3.58715835e-01 -4.98250921e-02\n",
      "  -4.38798656e-02  1.33902394e-01 -2.04420412e-16]\n",
      " [-6.49420210e-02  8.78712176e-05  1.88862634e-03 -4.01387219e-02\n",
      "   2.83946082e-01  1.29577681e-02  2.08436173e-02  2.53070509e-01\n",
      "   2.67003612e-01 -8.93103301e-02  1.25517376e-01  1.20101228e-01\n",
      "   1.31173242e-01  6.00988260e-01 -5.72758972e-02 -8.05646321e-02\n",
      "  -4.11409829e-01 -4.26645870e-01 -2.29896060e-16]\n",
      " [ 2.06525035e-02 -1.84594797e-02  1.12791851e-04 -5.68223098e-02\n",
      "   3.06993768e-01  5.01954553e-02 -2.36233418e-01 -1.72534471e-01\n",
      "  -1.12449030e-01  3.76306639e-02 -7.32297370e-02  1.93161198e-01\n",
      "  -2.29175378e-01  2.34399794e-02  2.30715154e-02 -7.68068902e-01\n",
      "   3.05596329e-01 -1.41449908e-01 -4.17136677e-16]\n",
      " [-5.89825272e-02 -1.06253651e-01 -1.78067753e-04 -5.11559866e-02\n",
      "   2.90998454e-01  3.10419729e-02  2.20568265e-01  2.69182050e-01\n",
      "   1.55959754e-01 -3.42199706e-01 -1.54022418e-01 -5.89232049e-01\n",
      "  -2.44683504e-01  1.12932369e-01  2.25648402e-01 -1.28849244e-01\n",
      "   7.40586107e-02  3.43354155e-01 -2.03559842e-16]\n",
      " [ 1.04467072e-01 -5.22925679e-02  1.06026980e-03 -3.74263974e-02\n",
      "   2.40154176e-01  2.07107978e-02 -3.64828472e-02 -4.74459067e-02\n",
      "   6.60793444e-02  2.86557287e-01 -2.33453440e-01 -1.87977015e-01\n",
      "   2.11810302e-02 -1.56808143e-02 -8.05479610e-01 -4.33553170e-02\n",
      "  -1.79472405e-01  2.51725648e-01 -1.24742039e-16]\n",
      " [-9.37990839e-02  5.12802970e-02  2.50912913e-03 -5.88059719e-02\n",
      "   3.73080202e-01 -5.97379094e-02  3.61742169e-02  2.08985107e-01\n",
      "   3.49272232e-01 -1.25500047e-01  1.79792074e-01  1.00285946e-01\n",
      "   9.15892489e-02 -7.47224523e-01 -2.65113045e-02 -2.03417581e-02\n",
      "  -1.09494758e-01 -1.93401629e-01 -3.65246439e-16]\n",
      " [ 5.12922032e-02 -1.99221535e-01  3.68482275e-03 -3.80280306e-02\n",
      "   2.15484846e-01  4.57722792e-02 -1.22184837e-01  1.48973163e-01\n",
      "   1.13773918e-01  2.72090954e-01 -7.41308014e-01  1.55205935e-01\n",
      "   1.16100848e-01 -1.26825706e-02  2.74494247e-01  2.71222445e-01\n",
      "   1.52979149e-01 -1.54961917e-01 -3.96222975e-16]\n",
      " [-1.51456041e-01 -1.80705494e-02 -3.01655746e-01 -3.25906870e-01\n",
      "  -6.42773221e-02 -3.02399516e-01  7.00877674e-01 -1.38374687e-01\n",
      "   1.01329726e-01  2.28331315e-01 -9.33878940e-02  2.45555873e-01\n",
      "  -1.54782527e-01  2.50215314e-02  2.85966504e-02 -1.16203621e-01\n",
      "  -3.23859108e-02  4.68342112e-02  9.04524188e-15]\n",
      " [ 4.26226372e-01  3.27359174e-01 -4.27862398e-01 -4.23776496e-01\n",
      "  -6.12314246e-02  5.60436946e-01 -6.38784489e-04 -1.98049809e-02\n",
      "   8.18941592e-02 -1.28053766e-01 -3.26360961e-02 -7.32472138e-03\n",
      "   6.88599639e-02 -1.91286834e-02  1.79859796e-02  1.94259528e-02\n",
      "   6.76437042e-03 -1.43314516e-02  1.27918590e-14]\n",
      " [ 1.88915605e-01 -6.07854327e-01  3.65890616e-02 -2.22455406e-01\n",
      "  -4.47823726e-02  5.56077934e-02 -1.37223705e-02 -6.05742964e-02\n",
      "   2.58417297e-02 -5.03378508e-02  1.71126279e-01  1.38109955e-02\n",
      "   1.04968870e-02 -2.11752794e-02 -1.39664970e-02  2.54665325e-02\n",
      "   8.96085501e-03 -2.97402969e-02 -7.07106781e-01]\n",
      " [-4.02102319e-01 -2.61913018e-02 -4.24763642e-01 -4.42189657e-01\n",
      "  -8.96373111e-02 -3.04018108e-01 -4.68799224e-01  2.44492787e-01\n",
      "  -2.15910820e-01  2.51596964e-02  2.81326468e-02 -1.68402393e-01\n",
      "   4.49565682e-03 -4.51025601e-03 -4.70077946e-02  4.56167103e-02\n",
      "  -2.34789488e-03 -3.03745942e-02  1.28722062e-14]\n",
      " [-5.31294729e-01  7.44326384e-02  5.38792700e-01 -4.39591410e-01\n",
      "  -7.80613460e-02  4.41710440e-01  5.91886530e-02 -1.08514683e-01\n",
      "   2.50420560e-02  8.83927698e-02 -2.00964978e-02 -2.94485832e-02\n",
      "  -4.09272610e-03 -3.52625370e-03 -2.74013026e-02  2.81214721e-02\n",
      "   2.12741504e-02 -2.07893052e-02 -2.65858646e-14]\n",
      " [ 4.72049890e-01  2.59635122e-01  5.01768363e-01 -4.31942255e-01\n",
      "  -7.61274027e-02 -4.58442249e-01 -4.40205633e-02  1.90706285e-01\n",
      "  -6.94188297e-02 -5.33840252e-02 -6.48811409e-02  1.44593949e-02\n",
      "  -9.01021860e-03  6.83400765e-03  2.85513708e-02 -4.84746940e-02\n",
      "  -3.76175882e-02  1.86042310e-02 -2.43555111e-14]\n",
      " [ 1.88915605e-01 -6.07854327e-01  3.65890616e-02 -2.22455406e-01\n",
      "  -4.47823726e-02  5.56077934e-02 -1.37223705e-02 -6.05742964e-02\n",
      "   2.58417297e-02 -5.03378508e-02  1.71126279e-01  1.38109955e-02\n",
      "   1.04968870e-02 -2.11752794e-02 -1.39664970e-02  2.54665325e-02\n",
      "   8.96085501e-03 -2.97402969e-02  7.07106781e-01]]\n",
      "\n",
      "Eigenvalues \n",
      "[ 2.99378123e+00  2.32588797e+00  9.88700555e-03  4.80063796e-02\n",
      "  5.98877118e-02  5.20919412e-01  1.40285039e+00  8.05777839e-01\n",
      "  1.31772435e+00  9.32163432e-01  9.65637794e-01  1.01638596e+00\n",
      "  1.15106495e+00  1.13240626e+00  1.05174232e+00  1.09852449e+00\n",
      "  1.08817662e+00  1.07961109e+00 -1.94629697e-17]\n"
     ]
    }
   ],
   "source": [
    "eig_vals, eig_vecs = np.linalg.eig(cov_mat)\n",
    "\n",
    "print('Eigenvectors \\n%s' %eig_vecs)\n",
    "print('\\nEigenvalues \\n%s' %eig_vals)"
   ]
  },
  {
   "cell_type": "code",
   "execution_count": 9,
   "metadata": {
    "ExecuteTime": {
     "end_time": "2020-08-07T03:18:45.468918Z",
     "start_time": "2020-08-07T03:18:45.463266Z"
    }
   },
   "outputs": [
    {
     "name": "stdout",
     "output_type": "stream",
     "text": [
      "Eigenvalues in descending order:\n",
      "2.9937812295769666\n",
      "2.325887974529779\n",
      "1.4028503920068465\n",
      "1.3177243457761312\n",
      "1.151064954548289\n",
      "1.13240625965215\n",
      "1.0985244870475608\n",
      "1.0881766208838886\n",
      "1.0796110893671251\n",
      "1.0517423219565725\n",
      "1.016385957075937\n",
      "0.9656377937406206\n",
      "0.932163431800202\n",
      "0.8057778387636763\n",
      "0.5209194120436086\n",
      "0.05988771178897892\n",
      "0.04800637964839638\n",
      "0.009887005554843092\n",
      "1.946296973779759e-17\n"
     ]
    }
   ],
   "source": [
    "# Make a list of (eigenvalue, eigenvector) tuples\n",
    "eig_pairs = [(np.abs(eig_vals[i]), eig_vecs[:,i]) for i in range(len(eig_vals))]\n",
    "\n",
    "# Sort the (eigenvalue, eigenvector) tuples from high to low\n",
    "eig_pairs.sort(key=lambda x: x[0], reverse=True)\n",
    "\n",
    "# Visually confirm that the list is correctly sorted by decreasing eigenvalues\n",
    "print('Eigenvalues in descending order:')\n",
    "for i in eig_pairs:\n",
    "    print(i[0])\n",
    "    \n",
    "#this would be helpful to add feature labels to the corresponding eigenvalues\n"
   ]
  },
  {
   "cell_type": "code",
   "execution_count": 10,
   "metadata": {
    "ExecuteTime": {
     "end_time": "2020-08-07T03:18:59.069549Z",
     "start_time": "2020-08-07T03:18:59.062653Z"
    }
   },
   "outputs": [
    {
     "data": {
      "text/plain": [
       "array([ 15.7563824 ,  27.99761767,  35.38087167,  42.3161041 ,\n",
       "        48.37420194,  54.33409837,  60.11567377,  65.84278796,\n",
       "        71.52482144,  77.06018055,  82.4094578 ,  87.49164557,\n",
       "        92.39765652,  96.63849537,  99.38011369,  99.69530495,\n",
       "        99.94796432, 100.        , 100.        ])"
      ]
     },
     "execution_count": 10,
     "metadata": {},
     "output_type": "execute_result"
    }
   ],
   "source": [
    "tot = sum(eig_vals)\n",
    "var_exp = [(i / tot)*100 for i in sorted(eig_vals, reverse=True)]\n",
    "cum_var_exp = np.cumsum(var_exp)\n",
    "cum_var_exp"
   ]
  },
  {
   "cell_type": "code",
   "execution_count": 11,
   "metadata": {
    "ExecuteTime": {
     "end_time": "2020-08-07T03:19:25.433312Z",
     "start_time": "2020-08-07T03:19:25.097219Z"
    }
   },
   "outputs": [
    {
     "data": {
      "image/png": "[encoded data removed]",
      "text/plain": [
       "<Figure size 432x288 with 1 Axes>"
      ]
     },
     "metadata": {},
     "output_type": "display_data"
    }
   ],
   "source": [
    "with plt.style.context('seaborn-whitegrid'):\n",
    "    plt.figure(figsize=(6, 4))\n",
    "\n",
    "    plt.bar(range(19), var_exp, alpha=0.5, align='center',\n",
    "            label='individual explained variance')\n",
    "    plt.step(range(19), cum_var_exp, where='mid',\n",
    "             label='cumulative explained variance')\n",
    "    plt.ylabel('Explained variance ratio')\n",
    "    plt.xlabel('Principal components')\n",
    "    plt.legend(loc='best')\n",
    "    plt.tight_layout()\n",
    "    \n",
    "#how to add feature values to x-axis"
   ]
  },
  {
   "cell_type": "code",
   "execution_count": 12,
   "metadata": {
    "ExecuteTime": {
     "end_time": "2020-08-07T03:20:58.892727Z",
     "start_time": "2020-08-07T03:20:58.888678Z"
    }
   },
   "outputs": [
    {
     "name": "stdout",
     "output_type": "stream",
     "text": [
      "Matrix W:\n",
      " [[-6.22636341e-02  7.03206241e-02]\n",
      " [-1.72309645e-02  5.33035539e-03]\n",
      " [ 5.07235823e-04  3.09511411e-04]\n",
      " [-7.04821654e-02  3.04102359e-02]\n",
      " [ 6.51710940e-02  1.13635519e-01]\n",
      " [ 1.15620436e-01  6.63607563e-02]\n",
      " [-6.49420210e-02  8.78712176e-05]\n",
      " [ 2.06525035e-02 -1.84594797e-02]\n",
      " [-5.89825272e-02 -1.06253651e-01]\n",
      " [ 1.04467072e-01 -5.22925679e-02]\n",
      " [-9.37990839e-02  5.12802970e-02]\n",
      " [ 5.12922032e-02 -1.99221535e-01]\n",
      " [-1.51456041e-01 -1.80705494e-02]\n",
      " [ 4.26226372e-01  3.27359174e-01]\n",
      " [ 1.88915605e-01 -6.07854327e-01]\n",
      " [-4.02102319e-01 -2.61913018e-02]\n",
      " [-5.31294729e-01  7.44326384e-02]\n",
      " [ 4.72049890e-01  2.59635122e-01]\n",
      " [ 1.88915605e-01 -6.07854327e-01]] (19, 2)\n"
     ]
    }
   ],
   "source": [
    "matrix_w = np.hstack((eig_pairs[0][1].reshape(19,1),\n",
    "                      eig_pairs[1][1].reshape(19,1)))\n",
    "\n",
    "print('Matrix W:\\n', matrix_w, matrix_w.shape)"
   ]
  },
  {
   "cell_type": "code",
   "execution_count": 13,
   "metadata": {
    "ExecuteTime": {
     "end_time": "2020-08-07T03:21:15.566179Z",
     "start_time": "2020-08-07T03:21:15.562203Z"
    }
   },
   "outputs": [
    {
     "name": "stdout",
     "output_type": "stream",
     "text": [
      "(12783, 2)\n"
     ]
    }
   ],
   "source": [
    "X_pca = X_train.dot(matrix_w)\n",
    "print(X_pca.shape)"
   ]
  },
  {
   "cell_type": "code",
   "execution_count": 14,
   "metadata": {
    "ExecuteTime": {
     "end_time": "2020-08-07T03:21:44.602120Z",
     "start_time": "2020-08-07T03:21:44.340209Z"
    }
   },
   "outputs": [
    {
     "name": "stderr",
     "output_type": "stream",
     "text": [
      "C:\\Users\\kyoun\\Anaconda3\\lib\\site-packages\\pandas\\core\\ops\\__init__.py:1115: FutureWarning: elementwise comparison failed; returning scalar instead, but in the future will perform elementwise comparison\n",
      "  result = method(y)\n"
     ]
    },
    {
     "data": {
      "image/png": "[encoded data removed]",
      "text/plain": [
       "<Figure size 432x288 with 1 Axes>"
      ]
     },
     "metadata": {},
     "output_type": "display_data"
    }
   ],
   "source": [
    "with plt.style.context('seaborn-whitegrid'):\n",
    "    plt.figure(figsize=(6, 4))\n",
    "    for lab, col in zip((\"Action\",\"Adventure\",\"Fighting\", \"Misc\", \"Puzzle\",\"Racing\", \"Role-Playing\",\"Shooter\",\"Simulation\",\n",
    "                         \"Sports\", \"Strategy\",\"Microsoft\", \"Nintendo\",\"PC\", \"Sony\", \"Console\", \"HH\",\"PC\"),\n",
    "                        ('blue', 'red', 'green','yellow', 'orange','black','grey','firebrick','sienna','navy','darkgreen',\n",
    "                        'olive', 'plum', 'turquoise', 'crimson','salmon','yellowgreen','crimson')):\n",
    "        plt.scatter(X_pca[y_train==lab, 0],\n",
    "                    X_pca[y_train==lab, 1],\n",
    "                    label=lab,\n",
    "                    c=col)\n",
    "    plt.xlabel('Principal Component 1')\n",
    "    plt.ylabel('Principal Component 2')\n",
    "    plt.legend(loc='right')\n",
    "    plt.tight_layout()\n",
    "    plt.show()\n"
   ]
  },
  {
   "cell_type": "markdown",
   "metadata": {
    "ExecuteTime": {
     "end_time": "2020-08-07T00:21:07.975479Z",
     "start_time": "2020-08-07T00:21:07.970769Z"
    }
   },
   "source": [
    "Using PCA in sklearn based on book, pg 223"
   ]
  },
  {
   "cell_type": "code",
   "execution_count": 15,
   "metadata": {},
   "outputs": [],
   "source": [
    "from sklearn.decomposition import PCA"
   ]
  },
  {
   "cell_type": "code",
   "execution_count": 16,
   "metadata": {},
   "outputs": [
    {
     "data": {
      "text/plain": [
       "14"
      ]
     },
     "execution_count": 16,
     "metadata": {},
     "output_type": "execute_result"
    }
   ],
   "source": [
    "pca = PCA()\n",
    "pca.fit(X_train)\n",
    "cumsum = np.cumsum(pca.explained_variance_ratio_)\n",
    "d = np.argmax(cumsum >=0.95) + 1\n",
    "d"
   ]
  },
  {
   "cell_type": "code",
   "execution_count": 17,
   "metadata": {},
   "outputs": [
    {
     "ename": "AttributeError",
     "evalue": "module 'matplotlib.pyplot' has no attribute 'save_fig'",
     "output_type": "error",
     "traceback": [
      "\u001b[1;31m---------------------------------------------------------------------------\u001b[0m",
      "\u001b[1;31mAttributeError\u001b[0m                            Traceback (most recent call last)",
      "\u001b[1;32m<ipython-input-17-71f489ca7f94>\u001b[0m in \u001b[0;36m<module>\u001b[1;34m\u001b[0m\n\u001b[0;32m     10\u001b[0m              arrowprops=dict(arrowstyle=\"->\"), fontsize=16)\n\u001b[0;32m     11\u001b[0m \u001b[0mplt\u001b[0m\u001b[1;33m.\u001b[0m\u001b[0mgrid\u001b[0m\u001b[1;33m(\u001b[0m\u001b[1;32mTrue\u001b[0m\u001b[1;33m)\u001b[0m\u001b[1;33m\u001b[0m\u001b[1;33m\u001b[0m\u001b[0m\n\u001b[1;32m---> 12\u001b[1;33m \u001b[0mplt\u001b[0m\u001b[1;33m.\u001b[0m\u001b[0msave_fig\u001b[0m\u001b[1;33m(\u001b[0m\u001b[1;34m\"explained_variance_plot\"\u001b[0m\u001b[1;33m)\u001b[0m\u001b[1;33m\u001b[0m\u001b[1;33m\u001b[0m\u001b[0m\n\u001b[0m\u001b[0;32m     13\u001b[0m \u001b[0mplt\u001b[0m\u001b[1;33m.\u001b[0m\u001b[0mshow\u001b[0m\u001b[1;33m(\u001b[0m\u001b[1;33m)\u001b[0m\u001b[1;33m\u001b[0m\u001b[1;33m\u001b[0m\u001b[0m\n",
      "\u001b[1;31mAttributeError\u001b[0m: module 'matplotlib.pyplot' has no attribute 'save_fig'"
     ]
    },
    {
     "data": {
      "image/png": "[encoded data removed]",
      "text/plain": [
       "<Figure size 432x288 with 1 Axes>"
      ]
     },
     "metadata": {
      "needs_background": "light"
     },
     "output_type": "display_data"
    }
   ],
   "source": [
    "plt.figure(figsize=(6,4))\n",
    "plt.plot(cumsum, linewidth=3)\n",
    "plt.axis([0, 21, 0, 1])\n",
    "plt.xlabel(\"Dimensions\")\n",
    "plt.ylabel(\"Explained Variance\")\n",
    "plt.plot([d, d], [0, 0.95], \"k:\")\n",
    "plt.plot([0, d], [0.95, 0.95], \"k:\")\n",
    "plt.plot(d, 0.95, \"ko\")\n",
    "plt.annotate(\"Elbow\", xy=(65, 0.85), xytext=(70, 0.7),\n",
    "             arrowprops=dict(arrowstyle=\"->\"), fontsize=16)\n",
    "plt.grid(True)\n",
    "plt.save_fig(\"explained_variance_plot\")\n",
    "plt.show()"
   ]
  },
  {
   "cell_type": "code",
   "execution_count": 18,
   "metadata": {},
   "outputs": [
    {
     "name": "stdout",
     "output_type": "stream",
     "text": [
      "14\n",
      "0.9658292556860725\n"
     ]
    }
   ],
   "source": [
    "pca = PCA(n_components = 0.95)\n",
    "X_train_reduced = pca.fit_transform(X_train)\n",
    "X_val_reduced = pca.fit_transform(X_val)\n",
    "print(pca.n_components_)\n",
    "\n",
    "print(np.sum(pca.explained_variance_ratio_))"
   ]
  },
  {
   "cell_type": "code",
   "execution_count": 19,
   "metadata": {},
   "outputs": [
    {
     "name": "stdout",
     "output_type": "stream",
     "text": [
      "mse: 2.0638762291451123\n",
      "rmse: 1.4366197232201403\n",
      "r-squared: -0.0016523048878092084\n",
      "training time: 0.014799899999999866\n"
     ]
    }
   ],
   "source": [
    "from sklearn.linear_model import LinearRegression\n",
    "from sklearn.metrics import mean_squared_error\n",
    "from scipy import stats\n",
    "from math import sqrt\n",
    "from sklearn.metrics import r2_score\n",
    "import timeit\n",
    "\n",
    "\n",
    "lin_reg = LinearRegression()\n",
    "lin_reg.fit(X_train_reduced,y_train)\n",
    "y_pred = lin_reg.predict(X_val_reduced)\n",
    "print(\"mse:\",mean_squared_error(y_val, y_pred))\n",
    "print(\"rmse:\", sqrt(mean_squared_error(y_val, y_pred)))\n",
    "print(\"r-squared:\", r2_score(y_val, y_pred))\n",
    "print(\"training time:\", timeit.timeit())\n",
    "\n",
    "#Using PCA that reduces features to 14 improves model slightly, but still relatively poor r-squared\n",
    "#better results than KNN\n"
   ]
  },
  {
   "cell_type": "code",
   "execution_count": 20,
   "metadata": {},
   "outputs": [],
   "source": [
    "from sklearn.metrics import mean_squared_error\n",
    "from sklearn.neighbors import KNeighborsRegressor\n",
    "from math import sqrt\n",
    "from sklearn.metrics import r2_score\n",
    "%matplotlib inline\n",
    "import timeit"
   ]
  },
  {
   "cell_type": "code",
   "execution_count": 21,
   "metadata": {},
   "outputs": [
    {
     "name": "stdout",
     "output_type": "stream",
     "text": [
      "[1.9351075523207517, 1.6989073643936532, 1.5795851777886447, 1.5478470743425166, 1.5105402683735287, 1.5166094758548807, 1.5028030347495929, 1.4926750675752454, 1.502810344705161, 1.4990876622629299, 1.4925163587874857, 1.488135177668922, 1.48674294649285, 1.4910527181007394, 1.487226300338606, 1.4805802687890712, 1.479650780231252, 1.4751284792545858, 1.4681966761514933, 1.4716417314668484, 1.468296619828951, 1.4703550013409161, 1.4749359022144803, 1.4779283941928039, 1.4748611368587452, 1.473389208565779, 1.4722864255832326, 1.4697493033961926, 1.470407277586461, 1.467789287051593, 1.4673113439325185, 1.463756136087325, 1.4620226276303838, 1.4592641037433667, 1.4591183615602688, 1.4593083600929653, 1.4619223214019377, 1.4584861390265909, 1.460056032185073, 1.4617459396609056, 1.4616711880449396, 1.4589386017272228, 1.4590793667916366, 1.4580887809473098, 1.456051589083141, 1.4554636348111925, 1.456507462839261, 1.455790069158248, 1.454348873971435, 1.4546129928433493]\n"
     ]
    },
    {
     "data": {
      "text/plain": [
       "[<matplotlib.lines.Line2D at 0x265106f88c8>]"
      ]
     },
     "execution_count": 21,
     "metadata": {},
     "output_type": "execute_result"
    },
    {
     "data": {
      "image/png": "[encoded data removed]",
      "text/plain": [
       "<Figure size 432x288 with 1 Axes>"
      ]
     },
     "metadata": {
      "needs_background": "light"
     },
     "output_type": "display_data"
    }
   ],
   "source": [
    "#Find optimal KNN\n",
    "\n",
    "error = []\n",
    "for k in range(1,51):\n",
    "    knn_optimal = KNeighborsRegressor(n_neighbors = k)\n",
    "    knn_optimal.fit(X_train_reduced,y_train)\n",
    "    y_pred_optimal = knn_optimal.predict(X_val_reduced) \n",
    "    error.append(sqrt(mean_squared_error(y_val, y_pred_optimal)))\n",
    "\n",
    "print(error)\n",
    "\n",
    "plt.plot(range(1,51), error)\n"
   ]
  },
  {
   "cell_type": "code",
   "execution_count": 22,
   "metadata": {},
   "outputs": [
    {
     "name": "stdout",
     "output_type": "stream",
     "text": [
      "mse: 2.1558949638011233\n",
      "rmse: 1.468296619828951\n",
      "r-squared: -0.046311367461165265\n"
     ]
    }
   ],
   "source": [
    "knn = KNeighborsRegressor(n_neighbors = 21)\n",
    "knn.fit(X_train_reduced,y_train)\n",
    "\n",
    "\n",
    "y_pred = knn.predict(X_val_reduced)\n",
    "print(\"mse:\",mean_squared_error(y_val, y_pred))\n",
    "print(\"rmse:\", sqrt(mean_squared_error(y_val, y_pred)))\n",
    "print(\"r-squared:\", r2_score(y_val, y_pred))\n"
   ]
  },
  {
   "cell_type": "code",
   "execution_count": 23,
   "metadata": {},
   "outputs": [
    {
     "name": "stdout",
     "output_type": "stream",
     "text": [
      "mse: 2.62345868301971\n",
      "rmse: 1.6197094440113973\n",
      "r-squared: -0.27323208606995775\n"
     ]
    }
   ],
   "source": [
    "from sklearn.ensemble import RandomForestRegressor\n",
    "\n",
    "rf4 = RandomForestRegressor(n_estimators = 100,\n",
    "                           n_jobs = -1,\n",
    "                           oob_score = True,\n",
    "                           bootstrap = True,\n",
    "                           random_state = 42)\n",
    "rf4.fit(X_train_reduced, y_train)\n",
    "\n",
    "y_pred_rf4 = rf4.predict(X_val_reduced)\n",
    "print(\"mse:\",mean_squared_error(y_val, y_pred_rf4))\n",
    "print(\"rmse:\", sqrt(mean_squared_error(y_val, y_pred_rf4)))\n",
    "print(\"r-squared:\", r2_score(y_val, y_pred_rf4))\n"
   ]
  },
  {
   "cell_type": "code",
   "execution_count": null,
   "metadata": {},
   "outputs": [],
   "source": []
  }
 ],
 "metadata": {
  "kernelspec": {
   "display_name": "Python 3",
   "language": "python",
   "name": "python3"
  },
  "language_info": {
   "codemirror_mode": {
    "name": "ipython",
    "version": 3
   },
   "file_extension": ".py",
   "mimetype": "text/x-python",
   "name": "python",
   "nbconvert_exporter": "python",
   "pygments_lexer": "ipython3",
   "version": "3.7.4"
  }
 },
 "nbformat": 4,
 "nbformat_minor": 2
}
