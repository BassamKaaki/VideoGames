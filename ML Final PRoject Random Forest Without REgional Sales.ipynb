{
 "cells": [
  {
   "cell_type": "markdown",
   "metadata": {},
   "source": [
    "Random Forest Regression (Kristin)\n",
    "1.  Model #1: default parameters\n",
    "2.  Model #2:  add max_sample_leafs\n",
    "3.  Model #3:  increase n_estimators and decrease max_sample_leafs\n",
    "\n",
    "\n"
   ]
  },
  {
   "cell_type": "code",
   "execution_count": 1,
   "metadata": {},
   "outputs": [],
   "source": [
    "import pandas as pd\n",
    "import numpy as np\n",
    "import matplotlib.pyplot as plt\n",
    "%matplotlib inline\n",
    "import seaborn as sns\n",
    "\n",
    "\n",
    "\n",
    "vgsales = pd.read_excel('vgsales_v5.xlsx')\n",
    "\n",
    "vgsales.head()\n",
    "\n",
    "# Create dummy variables for | Genre | First_Party | Platform_Type\n",
    "\n",
    "#dummy variables for Genre\n",
    "dummy_genre = pd.get_dummies(vgsales.Genre)\n",
    "dummy_genre\n",
    "\n",
    "#dummy variables for First Party\n",
    "dummy_first_party = pd.get_dummies(vgsales.First_Party)\n",
    "dummy_first_party\n",
    "\n",
    "#dummy variables for Platform Type\n",
    "dummy_platform_type = pd.get_dummies(vgsales.Platform_Type)\n",
    "dummy_platform_type\n",
    "\n",
    "#Merge dummy frames into one dataset with original vgsales datframe\n",
    "merged_vgsales = pd.concat([vgsales, dummy_genre, dummy_first_party, dummy_platform_type], axis='columns')\n",
    "\n",
    "\n",
    "\n",
    "\n"
   ]
  },
  {
   "cell_type": "code",
   "execution_count": 2,
   "metadata": {},
   "outputs": [],
   "source": [
    "vgsales_df = pd.DataFrame(merged_vgsales)\n",
    "\n"
   ]
  },
  {
   "cell_type": "code",
   "execution_count": 3,
   "metadata": {},
   "outputs": [],
   "source": [
    "#drop Rank (it is perfectly correlated with sales because it is based on global sales & is a result of sales\n",
    "# drop Name (a significant number of dummy variables would have to be created and we are not analyzing the impact of name, but trying to understand impact of genre, platform and region on sales)\n",
    "#drop Platform (we have created Platform Type and First Parties categories that are more meaningful than Platform)\n",
    "#drop Publisher (similar reason as Name)\n",
    "\n",
    "vgsales_df2 = vgsales_df.drop(columns = [\"Rank\",\"Name\", \"Platform\", \"Publisher\",\"Genre\", \"First_Party\", \"Platform_Type\",\"Year_1_Sales\", \"Year\", \"Atari\",\"SEGA\", \"Other\",\"EU_Sales\", \"Other_Sales\",\"Avg_Annual_Sales\",\"JP_Sales\", \"NA_Sales\"])"
   ]
  },
  {
   "cell_type": "code",
   "execution_count": 4,
   "metadata": {},
   "outputs": [],
   "source": [
    "#Create X, y\n",
    "\n",
    "X = vgsales_df2.drop(columns = \"Global_Sales\")\n",
    "y = vgsales_df2.Global_Sales"
   ]
  },
  {
   "cell_type": "code",
   "execution_count": 5,
   "metadata": {},
   "outputs": [
    {
     "name": "stdout",
     "output_type": "stream",
     "text": [
      "(12783, 19)\n",
      "(12783,)\n",
      "(1598, 19)\n",
      "(1598,)\n",
      "(1598, 19)\n",
      "(1598,)\n"
     ]
    }
   ],
   "source": [
    "#create test/train/validation sets, 80% = train, 10% = test, 10% = validation\n",
    "#check shape to ensure similar sizes \n",
    "\n",
    "from sklearn.model_selection import train_test_split\n",
    "\n",
    "X_train, X_test, y_train, y_test = train_test_split(X, y, test_size = 0.2, random_state = 42)\n",
    "X_val, X_test, y_val, y_test = train_test_split(X_test, y_test, test_size = 0.5, random_state = 42)\n",
    "\n",
    "print(X_train.shape)\n",
    "print(y_train.shape)\n",
    "print(X_val.shape)\n",
    "print(y_val.shape)\n",
    "print(X_test.shape)\n",
    "print(y_test.shape)"
   ]
  },
  {
   "cell_type": "markdown",
   "metadata": {},
   "source": [
    "Random Forest"
   ]
  },
  {
   "cell_type": "code",
   "execution_count": 6,
   "metadata": {},
   "outputs": [],
   "source": [
    "#import libraries for random forest\n",
    "from sklearn.ensemble import RandomForestRegressor\n",
    "from sklearn.model_selection import train_test_split\n",
    "import timeit\n",
    "from sklearn.metrics import mean_squared_error\n",
    "from math import sqrt\n",
    "from sklearn.metrics import r2_score\n",
    "\n"
   ]
  },
  {
   "cell_type": "code",
   "execution_count": 7,
   "metadata": {},
   "outputs": [
    {
     "name": "stdout",
     "output_type": "stream",
     "text": [
      "mse: 2.4459231762408717\n",
      "rmse: 1.5639447484616813\n",
      "r-squared: -0.18706953084826794\n",
      "training time: 0.009925899999999821\n"
     ]
    }
   ],
   "source": [
    "#Model #1:  using default parameters, except i set n_estimators to 100 to avoid pink error\n",
    "\n",
    "rnd_reg1 = RandomForestRegressor(n_estimators = 100)\n",
    "rnd_reg1.fit(X_train, y_train)\n",
    "\n",
    "y_pred_rf1 = rnd_reg1.predict(X_val)\n",
    "print(\"mse:\",mean_squared_error(y_val, y_pred_rf1))\n",
    "print(\"rmse:\", sqrt(mean_squared_error(y_val, y_pred_rf1)))\n",
    "print(\"r-squared:\", r2_score(y_val, y_pred_rf1))\n",
    "print(\"training time:\", timeit.timeit())\n",
    "\n",
    "#good results, low rmse and hight r-squares\n"
   ]
  },
  {
   "cell_type": "code",
   "execution_count": 8,
   "metadata": {},
   "outputs": [
    {
     "name": "stdout",
     "output_type": "stream",
     "text": [
      "mse: 2.250128038182891\n",
      "rmse: 1.5000426787871375\n",
      "r-squared: -0.09204510615064998\n",
      "training time: 0.00769419999999954\n"
     ]
    }
   ],
   "source": [
    "#Model #2:  keep n_estimators at 100, set max_leaf_nodes to 16\n",
    "\n",
    "rnd_reg2 = RandomForestRegressor(n_estimators = 100, max_leaf_nodes = 16)\n",
    "rnd_reg2.fit(X_train, y_train)\n",
    "\n",
    "y_pred_rf2 = rnd_reg2.predict(X_val)\n",
    "print(\"mse:\",mean_squared_error(y_val, y_pred_rf2))\n",
    "print(\"rmse:\", sqrt(mean_squared_error(y_val, y_pred_rf2)))\n",
    "print(\"r-squared:\", r2_score(y_val, y_pred_rf2))\n",
    "print(\"training time:\", timeit.timeit())\n",
    "\n",
    "#good results, but not as good as #1"
   ]
  },
  {
   "cell_type": "code",
   "execution_count": 9,
   "metadata": {},
   "outputs": [
    {
     "name": "stdout",
     "output_type": "stream",
     "text": [
      "mse: 2.058360627253414\n",
      "rmse: 1.4346987932152917\n",
      "r-squared: 0.0010245588066531974\n",
      "training time: 0.007465500000000347\n"
     ]
    }
   ],
   "source": [
    "#Model #3:   n_estimators at 500 and max_leaf_nodes to 5\n",
    "\n",
    "rnd_reg3 = RandomForestRegressor(n_estimators = 500, max_leaf_nodes = 5)\n",
    "rnd_reg3.fit(X_train, y_train)\n",
    "\n",
    "y_pred_rf3 = rnd_reg3.predict(X_val)\n",
    "print(\"mse:\",mean_squared_error(y_val, y_pred_rf3))\n",
    "print(\"rmse:\", sqrt(mean_squared_error(y_val, y_pred_rf3)))\n",
    "print(\"r-squared:\", r2_score(y_val, y_pred_rf3))\n",
    "print(\"training time:\", timeit.timeit())\n",
    "\n",
    "#slower than other models and the worst results, stick with model 1, default parameters with n_estimators set to 100"
   ]
  },
  {
   "cell_type": "code",
   "execution_count": 10,
   "metadata": {},
   "outputs": [
    {
     "name": "stdout",
     "output_type": "stream",
     "text": [
      "R^2 Training Score: 0.22 \n",
      "OOB Score: -0.12 \n",
      "R^2 Validation Score: -0.19\n",
      "mse: 2.4470730450768947\n",
      "rmse: 1.5643123233794762\n",
      "r-squared: -0.18762759181803745\n",
      "training time: 0.007799700000001408\n"
     ]
    }
   ],
   "source": [
    "#run random forest based on article https://towardsdatascience.com/explaining-feature-importance-by-example-of-a-random-forest-d9166011959e\n",
    "\n",
    "rf4 = RandomForestRegressor(n_estimators = 100,\n",
    "                           n_jobs = -1,\n",
    "                           oob_score = True,\n",
    "                           bootstrap = True,\n",
    "                           random_state = 42)\n",
    "rf4.fit(X_train, y_train)\n",
    "\n",
    "print('R^2 Training Score: {:.2f} \\nOOB Score: {:.2f} \\nR^2 Validation Score: {:.2f}'.format(rf4.score(X_train, y_train), \n",
    "                                                                                             rf4.oob_score_,\n",
    "                                                                                             rf4.score(X_val, y_val)))\n",
    "y_pred_rf4 = rf4.predict(X_val)\n",
    "print(\"mse:\",mean_squared_error(y_val, y_pred_rf4))\n",
    "print(\"rmse:\", sqrt(mean_squared_error(y_val, y_pred_rf4)))\n",
    "print(\"r-squared:\", r2_score(y_val, y_pred_rf4))\n",
    "print(\"training time:\", timeit.timeit())\n"
   ]
  },
  {
   "cell_type": "code",
   "execution_count": 11,
   "metadata": {},
   "outputs": [
    {
     "data": {
      "text/html": [
       "<div>\n",
       "<style scoped>\n",
       "    .dataframe tbody tr th:only-of-type {\n",
       "        vertical-align: middle;\n",
       "    }\n",
       "\n",
       "    .dataframe tbody tr th {\n",
       "        vertical-align: top;\n",
       "    }\n",
       "\n",
       "    .dataframe thead th {\n",
       "        text-align: right;\n",
       "    }\n",
       "</style>\n",
       "<table border=\"1\" class=\"dataframe\">\n",
       "  <thead>\n",
       "    <tr style=\"text-align: right;\">\n",
       "      <th></th>\n",
       "      <th>Importance</th>\n",
       "    </tr>\n",
       "    <tr>\n",
       "      <th>Feature</th>\n",
       "      <th></th>\n",
       "    </tr>\n",
       "  </thead>\n",
       "  <tbody>\n",
       "    <tr>\n",
       "      <td>Years_In_Market</td>\n",
       "      <td>0.573835</td>\n",
       "    </tr>\n",
       "    <tr>\n",
       "      <td>Shooter</td>\n",
       "      <td>0.143150</td>\n",
       "    </tr>\n",
       "    <tr>\n",
       "      <td>Nintendo</td>\n",
       "      <td>0.089267</td>\n",
       "    </tr>\n",
       "    <tr>\n",
       "      <td>Console</td>\n",
       "      <td>0.087441</td>\n",
       "    </tr>\n",
       "    <tr>\n",
       "      <td>Action</td>\n",
       "      <td>0.059373</td>\n",
       "    </tr>\n",
       "    <tr>\n",
       "      <td>HH</td>\n",
       "      <td>0.051148</td>\n",
       "    </tr>\n",
       "    <tr>\n",
       "      <td>Role-Playing</td>\n",
       "      <td>0.043355</td>\n",
       "    </tr>\n",
       "    <tr>\n",
       "      <td>Adventure</td>\n",
       "      <td>0.031059</td>\n",
       "    </tr>\n",
       "    <tr>\n",
       "      <td>Simulation</td>\n",
       "      <td>0.027700</td>\n",
       "    </tr>\n",
       "    <tr>\n",
       "      <td>Misc</td>\n",
       "      <td>0.021467</td>\n",
       "    </tr>\n",
       "    <tr>\n",
       "      <td>Racing</td>\n",
       "      <td>0.019831</td>\n",
       "    </tr>\n",
       "    <tr>\n",
       "      <td>Sports</td>\n",
       "      <td>0.019062</td>\n",
       "    </tr>\n",
       "    <tr>\n",
       "      <td>Sony</td>\n",
       "      <td>0.014510</td>\n",
       "    </tr>\n",
       "    <tr>\n",
       "      <td>Strategy</td>\n",
       "      <td>0.013648</td>\n",
       "    </tr>\n",
       "    <tr>\n",
       "      <td>Fighting</td>\n",
       "      <td>0.013038</td>\n",
       "    </tr>\n",
       "    <tr>\n",
       "      <td>Puzzle</td>\n",
       "      <td>0.010672</td>\n",
       "    </tr>\n",
       "    <tr>\n",
       "      <td>PC</td>\n",
       "      <td>0.010615</td>\n",
       "    </tr>\n",
       "    <tr>\n",
       "      <td>PC</td>\n",
       "      <td>0.009243</td>\n",
       "    </tr>\n",
       "    <tr>\n",
       "      <td>Microsoft</td>\n",
       "      <td>0.005858</td>\n",
       "    </tr>\n",
       "  </tbody>\n",
       "</table>\n",
       "</div>"
      ],
      "text/plain": [
       "                 Importance\n",
       "Feature                    \n",
       "Years_In_Market    0.573835\n",
       "Shooter            0.143150\n",
       "Nintendo           0.089267\n",
       "Console            0.087441\n",
       "Action             0.059373\n",
       "HH                 0.051148\n",
       "Role-Playing       0.043355\n",
       "Adventure          0.031059\n",
       "Simulation         0.027700\n",
       "Misc               0.021467\n",
       "Racing             0.019831\n",
       "Sports             0.019062\n",
       "Sony               0.014510\n",
       "Strategy           0.013648\n",
       "Fighting           0.013038\n",
       "Puzzle             0.010672\n",
       "PC                 0.010615\n",
       "PC                 0.009243\n",
       "Microsoft          0.005858"
      ]
     },
     "execution_count": 11,
     "metadata": {},
     "output_type": "execute_result"
    }
   ],
   "source": [
    "#permutation importances\n",
    "from sklearn.metrics import r2_score\n",
    "from rfpimp import permutation_importances\n",
    "\n",
    "def r2(rf4, X_train, y_train):\n",
    "    return r2_score(y_train, rf4.predict(X_train))\n",
    "\n",
    "perm_imp_rfpimp = permutation_importances(rf4, X_train, y_train, r2)\n",
    "\n",
    "perm_imp_rfpimp\n"
   ]
  },
  {
   "cell_type": "code",
   "execution_count": 12,
   "metadata": {},
   "outputs": [
    {
     "name": "stdout",
     "output_type": "stream",
     "text": [
      "Automatically created module for IPython interactive environment\n",
      "Feature ranking:\n",
      "1. feature 0 (0.616977)\n",
      "2. feature 13 (0.050671)\n",
      "3. feature 8 (0.049438)\n",
      "4. feature 7 (0.037109)\n",
      "5. feature 5 (0.031858)\n",
      "6. feature 10 (0.026599)\n",
      "7. feature 17 (0.026041)\n",
      "8. feature 6 (0.024109)\n",
      "9. feature 1 (0.022872)\n",
      "10. feature 3 (0.022382)\n",
      "11. feature 2 (0.021935)\n",
      "12. feature 16 (0.018755)\n",
      "13. feature 9 (0.011777)\n",
      "14. feature 4 (0.010936)\n",
      "15. feature 11 (0.009492)\n",
      "16. feature 15 (0.007204)\n",
      "17. feature 12 (0.005578)\n",
      "18. feature 18 (0.003166)\n",
      "19. feature 14 (0.003099)\n"
     ]
    },
    {
     "data": {
      "image/png": "[encoded data removed]",
      "text/plain": [
       "<Figure size 432x288 with 1 Axes>"
      ]
     },
     "metadata": {
      "needs_background": "light"
     },
     "output_type": "display_data"
    }
   ],
   "source": [
    "#the example in book uses classification, need to change the below to regression\n",
    "print(__doc__)\n",
    "\n",
    "import numpy as np\n",
    "import matplotlib.pyplot as plt\n",
    "from sklearn.ensemble import ExtraTreesRegressor\n",
    "\n",
    "labels = vgsales_df2.drop(columns = [\"Global_Sales\"])\n",
    "\n",
    "\n",
    "# Build a forest and compute the impurity-based feature importances\n",
    "forest = ExtraTreesRegressor(n_estimators=250,\n",
    "                              random_state=0)\n",
    "\n",
    "forest.fit(X_train, y_train)\n",
    "importances = forest.feature_importances_\n",
    "std = np.std([tree.feature_importances_ for tree in forest.estimators_],\n",
    "             axis=0)\n",
    "indices = np.argsort(importances)[::-1]\n",
    "\n",
    "# Print the feature ranking\n",
    "print(\"Feature ranking:\")\n",
    "\n",
    "for f in range(X.shape[1]):\n",
    "    print(\"%d. feature %d (%f)\" % (f + 1, indices[f], importances[indices[f]]))\n",
    "\n",
    "# Plot the impurity-based feature importances of the forest\n",
    "plt.figure()\n",
    "plt.title(\"Feature importances\")\n",
    "plt.bar(range(X.shape[1]), importances[indices],\n",
    "        color=\"r\", yerr=std[indices], align=\"center\")\n",
    "plt.xticks(range(X.shape[1]), indices)\n",
    "plt.xlim([-1, X.shape[1]])\n",
    "plt.show()"
   ]
  },
  {
   "cell_type": "code",
   "execution_count": null,
   "metadata": {},
   "outputs": [],
   "source": []
  }
 ],
 "metadata": {
  "kernelspec": {
   "display_name": "Python 3",
   "language": "python",
   "name": "python3"
  },
  "language_info": {
   "codemirror_mode": {
    "name": "ipython",
    "version": 3
   },
   "file_extension": ".py",
   "mimetype": "text/x-python",
   "name": "python",
   "nbconvert_exporter": "python",
   "pygments_lexer": "ipython3",
   "version": "3.7.4"
  }
 },
 "nbformat": 4,
 "nbformat_minor": 2
}
