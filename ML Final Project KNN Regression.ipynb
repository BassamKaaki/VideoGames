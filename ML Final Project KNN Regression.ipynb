{
 "cells": [
  {
   "cell_type": "markdown",
   "metadata": {},
   "source": [
    "KNN Regression (Kristin)\n",
    "1.  Model #1:  set neighbors based on 10\n",
    "2.  then find optimal # of neighbors \n",
    "3.  Model #2:  run model using optimal # of neighbors\n",
    "3.  Model #3:  run model using optimal # of neighors and changing distance equation to Manhattan (default = euclidean)\n",
    "\n"
   ]
  },
  {
   "cell_type": "code",
   "execution_count": 1,
   "metadata": {},
   "outputs": [],
   "source": [
    "import pandas as pd\n",
    "import numpy as np\n",
    "import matplotlib.pyplot as plt\n",
    "import seaborn as sns\n",
    "\n",
    "\n",
    "\n",
    "vgsales = pd.read_excel('vgsales_v5.xlsx')\n",
    "\n",
    "vgsales.head()\n",
    "\n",
    "# Create dummy variables for | Genre | First_Party | Platform_Type\n",
    "\n",
    "#dummy variables for Genre\n",
    "dummy_genre = pd.get_dummies(vgsales.Genre)\n",
    "dummy_genre\n",
    "\n",
    "#dummy variables for First Party\n",
    "dummy_first_party = pd.get_dummies(vgsales.First_Party)\n",
    "dummy_first_party\n",
    "\n",
    "#dummy variables for Platform Type\n",
    "dummy_platform_type = pd.get_dummies(vgsales.Platform_Type)\n",
    "dummy_platform_type\n",
    "\n",
    "#Merge dummy frames into one dataset with original vgsales datframe\n",
    "merged_vgsales = pd.concat([vgsales, dummy_genre, dummy_first_party, dummy_platform_type], axis='columns')\n",
    "\n",
    "\n",
    "\n",
    "\n",
    "\n"
   ]
  },
  {
   "cell_type": "code",
   "execution_count": 2,
   "metadata": {},
   "outputs": [],
   "source": [
    "vgsales_df = pd.DataFrame(merged_vgsales)\n",
    "\n"
   ]
  },
  {
   "cell_type": "code",
   "execution_count": 3,
   "metadata": {},
   "outputs": [],
   "source": [
    "#drop Rank (it is perfectly correlated with sales because it is based on global sales & is a result of sales\n",
    "# drop Name (a significant number of dummy variables would have to be created and we are not analyzing the impact of name, but trying to understand impact of genre, platform and region on sales)\n",
    "#drop Platform (we have created Platform Type and First Parties categories that are more meaningful than Platform)\n",
    "#drop Publisher (similar reason as Name)\n",
    "\n",
    "vgsales_df2 = vgsales_df.drop(columns = [\"Rank\",\"Name\", \"Platform\", \"Publisher\",\"Genre\", \"First_Party\", \"Platform_Type\",\"Year_1_Sales\", \"Year\", \"Atari\",\"SEGA\", \"Other\"])"
   ]
  },
  {
   "cell_type": "code",
   "execution_count": 4,
   "metadata": {},
   "outputs": [],
   "source": [
    "#Create X, y\n",
    "\n",
    "X = vgsales_df2.drop(columns = \"Global_Sales\")\n",
    "y = vgsales_df2.Global_Sales"
   ]
  },
  {
   "cell_type": "code",
   "execution_count": 5,
   "metadata": {},
   "outputs": [
    {
     "name": "stdout",
     "output_type": "stream",
     "text": [
      "(12783, 24)\n",
      "(12783,)\n",
      "(1598, 24)\n",
      "(1598,)\n",
      "(1598, 24)\n",
      "(1598,)\n"
     ]
    }
   ],
   "source": [
    "#create test/train/validation sets, 80% = train, 10% = test, 10% = validation\n",
    "#check shape to ensure similar sizes \n",
    "\n",
    "from sklearn.model_selection import train_test_split\n",
    "\n",
    "X_train, X_test, y_train, y_test = train_test_split(X, y, test_size = 0.2, random_state = 42)\n",
    "X_val, X_test, y_val, y_test = train_test_split(X_test, y_test, test_size = 0.5, random_state = 42)\n",
    "\n",
    "print(X_train.shape)\n",
    "print(y_train.shape)\n",
    "print(X_val.shape)\n",
    "print(y_val.shape)\n",
    "print(X_test.shape)\n",
    "print(y_test.shape)"
   ]
  },
  {
   "cell_type": "markdown",
   "metadata": {},
   "source": [
    "KNN"
   ]
  },
  {
   "cell_type": "code",
   "execution_count": 6,
   "metadata": {},
   "outputs": [],
   "source": [
    "#Libraries for KNN Linear Regression\n",
    "from sklearn.metrics import mean_squared_error\n",
    "from sklearn.neighbors import KNeighborsRegressor\n",
    "from math import sqrt\n",
    "from sklearn.metrics import r2_score\n",
    "%matplotlib inline\n",
    "import timeit"
   ]
  },
  {
   "cell_type": "code",
   "execution_count": 7,
   "metadata": {
    "scrolled": true
   },
   "outputs": [
    {
     "name": "stdout",
     "output_type": "stream",
     "text": [
      "mse: 0.1615436852315394\n",
      "rmse: 0.4019249746302653\n",
      "r-squared: 0.9215986877666271\n",
      "training time: 0.008968600000000215\n"
     ]
    }
   ],
   "source": [
    "#Model #1:  KNN set to 10 neighbors\n",
    "\n",
    "knn = KNeighborsRegressor(n_neighbors = 10)\n",
    "knn.fit(X_train,y_train)\n",
    "\n",
    "\n",
    "y_pred = knn.predict(X_val)\n",
    "print(\"mse:\",mean_squared_error(y_val, y_pred))\n",
    "print(\"rmse:\", sqrt(mean_squared_error(y_val, y_pred)))\n",
    "print(\"r-squared:\", r2_score(y_val, y_pred))\n",
    "print(\"training time:\", timeit.timeit())\n",
    "\n",
    "#the poorest performing model among the knn models\n"
   ]
  },
  {
   "cell_type": "code",
   "execution_count": 8,
   "metadata": {},
   "outputs": [
    {
     "name": "stdout",
     "output_type": "stream",
     "text": [
      "[0.3585480384409282, 0.33117142844571223, 0.3012200196012777, 0.3089214313051938, 0.33943045870305927, 0.3322366214708479, 0.3661668806231327, 0.37583546638671245, 0.3900571165220255, 0.4019249746302653, 0.408743668130686, 0.41247066409804517, 0.42983006486694453, 0.44374401379230616, 0.45286751571407935, 0.46803891230289574, 0.47862965707996796, 0.4922514306082737, 0.5023480049476449, 0.5028242745682819, 0.5104600437773319, 0.5209169117630832, 0.5281244539312093, 0.5349749486296002, 0.5440578397249761, 0.5497291407729833, 0.5590664441127187, 0.5680355651611181, 0.5789628643021624, 0.5816527404845105, 0.5868881472272429, 0.5874470342901996, 0.5911863075569199, 0.5987389075941038, 0.605384868963431, 0.6115772102978779, 0.6180251596817071, 0.6253434987756192, 0.6298837120620446, 0.6341094509620849, 0.6417927343084074, 0.6442036953739888, 0.6495421381512587, 0.6552931808042267, 0.6588183360858414, 0.6624679033705229, 0.6680754741520495, 0.6692513511037121, 0.6751642701207008, 0.6795911312193826]\n"
     ]
    },
    {
     "data": {
      "text/plain": [
       "[<matplotlib.lines.Line2D at 0x27c384ca788>]"
      ]
     },
     "execution_count": 8,
     "metadata": {},
     "output_type": "execute_result"
    },
    {
     "data": {
      "image/png": "[encoded data removed]",
      "text/plain": [
       "<Figure size 432x288 with 1 Axes>"
      ]
     },
     "metadata": {
      "needs_background": "light"
     },
     "output_type": "display_data"
    }
   ],
   "source": [
    "#Find optimal KNN\n",
    "\n",
    "error = []\n",
    "for k in range(1,51):\n",
    "    knn_optimal = KNeighborsRegressor(n_neighbors = k)\n",
    "    knn_optimal.fit(X_train,y_train)\n",
    "    y_pred_optimal = knn_optimal.predict(X_val) \n",
    "    error.append(sqrt(mean_squared_error(y_val, y_pred_optimal)))\n",
    "\n",
    "print(error)\n",
    "\n",
    "plt.plot(range(1,51), error)\n",
    "\n",
    "#3 is the optimal number of n_neighbors"
   ]
  },
  {
   "cell_type": "code",
   "execution_count": 13,
   "metadata": {},
   "outputs": [
    {
     "name": "stdout",
     "output_type": "stream",
     "text": [
      "mse: 0.09073350020859411\n",
      "rmse: 0.3012200196012777\n",
      "r-squared: 0.9559646948149977\n",
      "training time: 0.007912099999998645\n"
     ]
    }
   ],
   "source": [
    "#Model #2:  n_neighbors = 3\n",
    "\n",
    "knn2 = KNeighborsRegressor(n_neighbors = 3)\n",
    "knn2.fit(X_train,y_train)\n",
    "\n",
    "y_pred2 = knn2.predict(X_val)\n",
    "print(\"mse:\",mean_squared_error(y_val, y_pred2))\n",
    "print(\"rmse:\", sqrt(mean_squared_error(y_val, y_pred2)))\n",
    "print(\"r-squared:\", r2_score(y_val, y_pred2))\n",
    "print(\"training time:\", timeit.timeit())\n",
    "\n",
    "#model with 3 neighbors performs better than Model #1 with 10 neighbors"
   ]
  },
  {
   "cell_type": "code",
   "execution_count": 12,
   "metadata": {},
   "outputs": [
    {
     "name": "stdout",
     "output_type": "stream",
     "text": [
      "mse: 0.12850884438881938\n",
      "rmse: 0.35848130270464507\n",
      "r-squared: 0.9376313470920453\n",
      "training time: 0.007376300000004221\n"
     ]
    }
   ],
   "source": [
    "#Model #3:  change distance equation to Manhattan, keep 3 neighbors\n",
    "\n",
    "knn3 = KNeighborsRegressor(n_neighbors = 3, p = 1)\n",
    "knn3.fit(X_train,y_train)\n",
    "\n",
    "y_pred3 = knn3.predict(X_val)\n",
    "print(\"mse:\",mean_squared_error(y_val, y_pred3))\n",
    "print(\"rmse:\", sqrt(mean_squared_error(y_val, y_pred3)))\n",
    "print(\"r-squared:\", r2_score(y_val, y_pred3))\n",
    "print(\"training time:\", timeit.timeit())\n",
    "\n",
    "#This model is better than model #1, but not as strong as model #2\n"
   ]
  },
  {
   "cell_type": "code",
   "execution_count": null,
   "metadata": {},
   "outputs": [],
   "source": []
  }
 ],
 "metadata": {
  "kernelspec": {
   "display_name": "Python 3",
   "language": "python",
   "name": "python3"
  },
  "language_info": {
   "codemirror_mode": {
    "name": "ipython",
    "version": 3
   },
   "file_extension": ".py",
   "mimetype": "text/x-python",
   "name": "python",
   "nbconvert_exporter": "python",
   "pygments_lexer": "ipython3",
   "version": "3.7.4"
  }
 },
 "nbformat": 4,
 "nbformat_minor": 2
}
